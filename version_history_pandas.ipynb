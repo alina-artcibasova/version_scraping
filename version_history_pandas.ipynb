{
 "cells": [
  {
   "cell_type": "markdown",
   "metadata": {},
   "source": [
    "# Pandas version history"
   ]
  },
  {
   "cell_type": "markdown",
   "metadata": {},
   "source": [
    "This document is based on the [tutorial by calmcode.io](https://calmcode.io/gazpacho/introduction.html)"
   ]
  },
  {
   "cell_type": "markdown",
   "metadata": {},
   "source": [
    "Here we're reading html from the page supplied by the url."
   ]
  },
  {
   "cell_type": "code",
   "execution_count": 1,
   "metadata": {},
   "outputs": [],
   "source": [
    "url = \"https://pypi.org/project/pandas/#history\"\n",
    "\n",
    "from gazpacho import get\n",
    "html = get(url)"
   ]
  },
  {
   "cell_type": "markdown",
   "metadata": {},
   "source": [
    "We use function find of object Soupt to get specific tags and/or classes of objects from the html doc."
   ]
  },
  {
   "cell_type": "code",
   "execution_count": 5,
   "metadata": {},
   "outputs": [],
   "source": [
    "from gazpacho import Soup\n",
    "soup = Soup(html)\n",
    "cards = soup.find(\"a\", {\"class\": \"card\"})"
   ]
  },
  {
   "cell_type": "markdown",
   "metadata": {},
   "source": [
    "Parameter partial allows us to either select by full or partial tag/class."
   ]
  },
  {
   "cell_type": "code",
   "execution_count": 6,
   "metadata": {},
   "outputs": [
    {
     "data": {
      "text/plain": [
       "<p class=\"release__version\">\n",
       "                  1.4.1\n",
       "                </p>"
      ]
     },
     "execution_count": 6,
     "metadata": {},
     "output_type": "execute_result"
    }
   ],
   "source": [
    "cards[0].find(\"p\", {\"class\": \"release__version\"}, partial=False)"
   ]
  },
  {
   "cell_type": "code",
   "execution_count": 7,
   "metadata": {},
   "outputs": [
    {
     "data": {
      "text/plain": [
       "[<p class=\"release__version\">\n",
       "                   1.4.1\n",
       "                 </p>,\n",
       " <p class=\"release__version-date\">\n",
       "   <time datetime=\"2022-02-12T11:21:13+0000\" data-controller=\"localized-time\" data-localized-time-relative=\"true\" data-localized-time-show-time=\"false\">\n",
       "   Feb 12, 2022\n",
       " </time>\n",
       " </p>]"
      ]
     },
     "execution_count": 7,
     "metadata": {},
     "output_type": "execute_result"
    }
   ],
   "source": [
    "cards[0].find(\"p\", {\"class\": \"release__version\"}, partial=True)"
   ]
  },
  {
   "cell_type": "markdown",
   "metadata": {},
   "source": [
    "We use attrs function to get the attributes of the tag, instead of the text within the tag."
   ]
  },
  {
   "cell_type": "code",
   "execution_count": 9,
   "metadata": {},
   "outputs": [
    {
     "data": {
      "text/plain": [
       "{'datetime': '2022-02-12T11:21:13+0000',\n",
       " 'data-controller': 'localized-time',\n",
       " 'data-localized-time-relative': 'true',\n",
       " 'data-localized-time-show-time': 'false'}"
      ]
     },
     "execution_count": 9,
     "metadata": {},
     "output_type": "execute_result"
    }
   ],
   "source": [
    "# this is a dictionary\n",
    "cards[0].find(\"time\").attrs"
   ]
  },
  {
   "cell_type": "markdown",
   "metadata": {},
   "source": [
    "We're specifically interested in the datetime attribute."
   ]
  },
  {
   "cell_type": "code",
   "execution_count": 8,
   "metadata": {},
   "outputs": [
    {
     "data": {
      "text/plain": [
       "'2022-02-12T11:21:13+0000'"
      ]
     },
     "execution_count": 8,
     "metadata": {},
     "output_type": "execute_result"
    }
   ],
   "source": [
    "# this is the information we're interested in\n",
    "cards[0].find(\"time\").attrs['datetime']"
   ]
  },
  {
   "cell_type": "markdown",
   "metadata": {},
   "source": [
    "Full process to get the list of dictionaries."
   ]
  },
  {
   "cell_type": "code",
   "execution_count": 10,
   "metadata": {},
   "outputs": [
    {
     "data": {
      "text/plain": [
       "[{'version': '1.4.1', 'timestamp': '2022-02-12T11:21:13+0000'},\n",
       " {'version': '1.4.0', 'timestamp': '2022-01-22T14:47:00+0000'},\n",
       " {'version': '1.4.0rc0', 'timestamp': '2022-01-06T11:01:13+0000'},\n",
       " {'version': '1.3.5', 'timestamp': '2021-12-12T14:30:49+0000'},\n",
       " {'version': '1.3.4', 'timestamp': '2021-10-17T16:42:57+0000'},\n",
       " {'version': '1.3.3', 'timestamp': '2021-09-12T13:20:46+0000'},\n",
       " {'version': '1.3.2', 'timestamp': '2021-08-15T16:14:47+0000'},\n",
       " {'version': '1.3.1', 'timestamp': '2021-07-25T12:22:25+0000'},\n",
       " {'version': '1.3.0', 'timestamp': '2021-07-02T11:59:11+0000'},\n",
       " {'version': '1.2.5', 'timestamp': '2021-06-22T13:41:54+0000'},\n",
       " {'version': '1.2.4', 'timestamp': '2021-04-12T18:43:31+0000'},\n",
       " {'version': '1.2.3', 'timestamp': '2021-03-02T12:05:36+0000'},\n",
       " {'version': '1.2.2', 'timestamp': '2021-02-09T13:20:50+0000'},\n",
       " {'version': '1.2.1', 'timestamp': '2021-01-20T13:34:07+0000'},\n",
       " {'version': '1.2.0', 'timestamp': '2020-12-26T16:58:54+0000'},\n",
       " {'version': '1.1.5', 'timestamp': '2020-12-07T15:07:55+0000'},\n",
       " {'version': '1.1.4', 'timestamp': '2020-10-30T18:45:41+0000'},\n",
       " {'version': '1.1.3', 'timestamp': '2020-10-05T19:45:44+0000'},\n",
       " {'version': '1.1.2', 'timestamp': '2020-09-08T19:49:08+0000'},\n",
       " {'version': '1.1.1', 'timestamp': '2020-08-20T21:12:02+0000'},\n",
       " {'version': '1.1.0', 'timestamp': '2020-07-28T18:01:26+0000'},\n",
       " {'version': '1.0.5', 'timestamp': '2020-06-18T11:30:46+0000'},\n",
       " {'version': '1.0.4', 'timestamp': '2020-05-29T11:49:40+0000'},\n",
       " {'version': '1.0.3', 'timestamp': '2020-03-18T17:08:00+0000'},\n",
       " {'version': '1.0.2', 'timestamp': '2020-03-15T13:58:47+0000'},\n",
       " {'version': '1.0.1', 'timestamp': '2020-02-05T20:50:35+0000'},\n",
       " {'version': '1.0.0', 'timestamp': '2020-01-30T11:57:40+0000'},\n",
       " {'version': '0.25.3', 'timestamp': '2019-11-01T14:45:06+0000'},\n",
       " {'version': '0.25.2', 'timestamp': '2019-10-19T02:03:22+0000'},\n",
       " {'version': '0.25.1', 'timestamp': '2019-08-22T19:17:16+0000'},\n",
       " {'version': '0.25.0', 'timestamp': '2019-07-19T00:08:20+0000'},\n",
       " {'version': '0.24.2', 'timestamp': '2019-03-14T10:10:10+0000'},\n",
       " {'version': '0.24.1', 'timestamp': '2019-02-04T03:08:46+0000'},\n",
       " {'version': '0.24.0', 'timestamp': '2019-01-25T21:13:23+0000'},\n",
       " {'version': '0.23.4', 'timestamp': '2018-08-04T18:47:17+0000'},\n",
       " {'version': '0.23.3', 'timestamp': '2018-07-07T20:26:01+0000'},\n",
       " {'version': '0.23.2', 'timestamp': '2018-07-06T12:23:36+0000'},\n",
       " {'version': '0.23.1', 'timestamp': '2018-06-13T02:14:42+0000'},\n",
       " {'version': '0.23.0', 'timestamp': '2018-05-16T02:11:07+0000'},\n",
       " {'version': '0.22.0', 'timestamp': '2017-12-31T12:37:46+0000'},\n",
       " {'version': '0.21.1', 'timestamp': '2017-12-13T04:16:33+0000'},\n",
       " {'version': '0.21.0', 'timestamp': '2017-10-28T18:44:46+0000'},\n",
       " {'version': '0.20.3', 'timestamp': '2017-07-07T21:39:55+0000'},\n",
       " {'version': '0.20.2', 'timestamp': '2017-06-05T12:24:15+0000'},\n",
       " {'version': '0.20.1', 'timestamp': '2017-05-05T17:32:13+0000'},\n",
       " {'version': '0.20.0', 'timestamp': '2017-05-05T02:46:47+0000'},\n",
       " {'version': '0.19.2', 'timestamp': '2016-12-24T17:02:06+0000'},\n",
       " {'version': '0.19.1', 'timestamp': '2016-11-03T16:32:09+0000'},\n",
       " {'version': '0.19.0', 'timestamp': '2016-10-02T15:47:13+0000'},\n",
       " {'version': '0.18.1', 'timestamp': '2016-05-05T00:24:23+0000'},\n",
       " {'version': '0.18.0', 'timestamp': '2016-03-12T15:42:59+0000'},\n",
       " {'version': '0.17.1', 'timestamp': '2015-11-20T18:59:32+0000'},\n",
       " {'version': '0.17.0', 'timestamp': '2015-10-09T14:17:15+0000'},\n",
       " {'version': '0.16.2', 'timestamp': '2015-06-13T14:13:00+0000'},\n",
       " {'version': '0.16.1', 'timestamp': '2015-05-11T01:20:42+0000'},\n",
       " {'version': '0.16.0', 'timestamp': '2015-03-22T13:44:58+0000'},\n",
       " {'version': '0.15.2', 'timestamp': '2014-12-11T16:51:53+0000'},\n",
       " {'version': '0.15.1', 'timestamp': '2014-11-08T13:35:18+0000'},\n",
       " {'version': '0.15.0', 'timestamp': '2014-10-19T00:56:51+0000'},\n",
       " {'version': '0.14.1', 'timestamp': '2014-07-10T23:58:36+0000'},\n",
       " {'version': '0.14.0', 'timestamp': '2014-05-30T12:40:06+0000'},\n",
       " {'version': '0.13.1', 'timestamp': '2014-02-09T22:19:19+0000'},\n",
       " {'version': '0.13.0', 'timestamp': '2014-01-14T23:10:45+0000'},\n",
       " {'version': '0.12.0', 'timestamp': '2013-07-24T20:20:02+0000'},\n",
       " {'version': '0.11.0', 'timestamp': '2013-04-23T01:05:32+0000'},\n",
       " {'version': '0.10.1', 'timestamp': '2013-01-22T05:22:02+0000'},\n",
       " {'version': '0.10.0', 'timestamp': '2012-12-17T16:36:05+0000'},\n",
       " {'version': '0.9.1', 'timestamp': '2012-11-15T00:41:46+0000'},\n",
       " {'version': '0.9.0', 'timestamp': '2012-10-08T00:17:47+0000'},\n",
       " {'version': '0.8.1', 'timestamp': '2012-07-22T19:48:23+0000'},\n",
       " {'version': '0.8.0', 'timestamp': '2012-06-29T16:21:04+0000'},\n",
       " {'version': '0.7.3', 'timestamp': '2012-04-12T17:36:19+0000'},\n",
       " {'version': '0.7.2', 'timestamp': '2012-03-16T20:39:20+0000'},\n",
       " {'version': '0.7.1', 'timestamp': '2012-02-29T22:06:16+0000'},\n",
       " {'version': '0.7.0', 'timestamp': '2012-02-09T22:29:40+0000'},\n",
       " {'version': '0.6.1', 'timestamp': '2011-12-13T23:08:00+0000'},\n",
       " {'version': '0.6.0', 'timestamp': '2011-11-26T03:22:22+0000'},\n",
       " {'version': '0.5.0', 'timestamp': '2011-10-25T02:34:25+0000'},\n",
       " {'version': '0.4.3', 'timestamp': '2011-10-09T21:58:43+0000'},\n",
       " {'version': '0.4.2', 'timestamp': '2011-10-03T04:47:36+0000'},\n",
       " {'version': '0.4.1', 'timestamp': '2011-09-26T01:22:28+0000'},\n",
       " {'version': '0.4.0', 'timestamp': '2011-09-12T19:41:11+0000'},\n",
       " {'version': '0.3.0', 'timestamp': '2011-02-20T01:00:04+0000'},\n",
       " {'version': '0.2', 'timestamp': '2010-05-18T13:14:26+0000'},\n",
       " {'version': '0.1', 'timestamp': '2009-12-25T22:55:48+0000'}]"
      ]
     },
     "execution_count": 10,
     "metadata": {},
     "output_type": "execute_result"
    }
   ],
   "source": [
    "from gazpacho import get, Soup\n",
    "\n",
    "url = \"https://pypi.org/project/pandas/#history\"\n",
    "\n",
    "html = get(url)\n",
    "soup = Soup(html)\n",
    "cards = soup.find('a', {'class': 'card'})\n",
    "\n",
    "def parse_card(card):\n",
    "    version = card.find(\"p\", {\"class\": \"release__version\"}, partial=False).text\n",
    "    timestamp = card.find(\"time\").attrs['datetime']\n",
    "    return {\"version\": version, 'timestamp': timestamp}\n",
    "\n",
    "[parse_card(c) for c in cards]"
   ]
  },
  {
   "cell_type": "markdown",
   "metadata": {},
   "source": [
    "We can use pandas to process that list of dictionaries into a convenient format."
   ]
  },
  {
   "cell_type": "code",
   "execution_count": 13,
   "metadata": {},
   "outputs": [
    {
     "data": {
      "text/html": [
       "<div>\n",
       "<style scoped>\n",
       "    .dataframe tbody tr th:only-of-type {\n",
       "        vertical-align: middle;\n",
       "    }\n",
       "\n",
       "    .dataframe tbody tr th {\n",
       "        vertical-align: top;\n",
       "    }\n",
       "\n",
       "    .dataframe thead th {\n",
       "        text-align: right;\n",
       "    }\n",
       "</style>\n",
       "<table border=\"1\" class=\"dataframe\">\n",
       "  <thead>\n",
       "    <tr style=\"text-align: right;\">\n",
       "      <th></th>\n",
       "      <th>version</th>\n",
       "      <th>timestamp</th>\n",
       "    </tr>\n",
       "  </thead>\n",
       "  <tbody>\n",
       "    <tr>\n",
       "      <th>0</th>\n",
       "      <td>1.4.1</td>\n",
       "      <td>2022-02-12 11:21:13+00:00</td>\n",
       "    </tr>\n",
       "    <tr>\n",
       "      <th>1</th>\n",
       "      <td>1.4.0</td>\n",
       "      <td>2022-01-22 14:47:00+00:00</td>\n",
       "    </tr>\n",
       "    <tr>\n",
       "      <th>2</th>\n",
       "      <td>1.4.0rc0</td>\n",
       "      <td>2022-01-06 11:01:13+00:00</td>\n",
       "    </tr>\n",
       "    <tr>\n",
       "      <th>3</th>\n",
       "      <td>1.3.5</td>\n",
       "      <td>2021-12-12 14:30:49+00:00</td>\n",
       "    </tr>\n",
       "    <tr>\n",
       "      <th>4</th>\n",
       "      <td>1.3.4</td>\n",
       "      <td>2021-10-17 16:42:57+00:00</td>\n",
       "    </tr>\n",
       "    <tr>\n",
       "      <th>...</th>\n",
       "      <td>...</td>\n",
       "      <td>...</td>\n",
       "    </tr>\n",
       "    <tr>\n",
       "      <th>80</th>\n",
       "      <td>0.4.1</td>\n",
       "      <td>2011-09-26 01:22:28+00:00</td>\n",
       "    </tr>\n",
       "    <tr>\n",
       "      <th>81</th>\n",
       "      <td>0.4.0</td>\n",
       "      <td>2011-09-12 19:41:11+00:00</td>\n",
       "    </tr>\n",
       "    <tr>\n",
       "      <th>82</th>\n",
       "      <td>0.3.0</td>\n",
       "      <td>2011-02-20 01:00:04+00:00</td>\n",
       "    </tr>\n",
       "    <tr>\n",
       "      <th>83</th>\n",
       "      <td>0.2</td>\n",
       "      <td>2010-05-18 13:14:26+00:00</td>\n",
       "    </tr>\n",
       "    <tr>\n",
       "      <th>84</th>\n",
       "      <td>0.1</td>\n",
       "      <td>2009-12-25 22:55:48+00:00</td>\n",
       "    </tr>\n",
       "  </tbody>\n",
       "</table>\n",
       "<p>85 rows × 2 columns</p>\n",
       "</div>"
      ],
      "text/plain": [
       "     version                 timestamp\n",
       "0      1.4.1 2022-02-12 11:21:13+00:00\n",
       "1      1.4.0 2022-01-22 14:47:00+00:00\n",
       "2   1.4.0rc0 2022-01-06 11:01:13+00:00\n",
       "3      1.3.5 2021-12-12 14:30:49+00:00\n",
       "4      1.3.4 2021-10-17 16:42:57+00:00\n",
       "..       ...                       ...\n",
       "80     0.4.1 2011-09-26 01:22:28+00:00\n",
       "81     0.4.0 2011-09-12 19:41:11+00:00\n",
       "82     0.3.0 2011-02-20 01:00:04+00:00\n",
       "83       0.2 2010-05-18 13:14:26+00:00\n",
       "84       0.1 2009-12-25 22:55:48+00:00\n",
       "\n",
       "[85 rows x 2 columns]"
      ]
     },
     "execution_count": 13,
     "metadata": {},
     "output_type": "execute_result"
    }
   ],
   "source": [
    "import pandas as pd\n",
    "\n",
    "(pd.DataFrame([parse_card(c) for c in cards])\n",
    "  .assign(timestamp=lambda d: pd.to_datetime(d['timestamp'])))"
   ]
  }
 ],
 "metadata": {
  "interpreter": {
   "hash": "8eedf075f987c6917b54ad0d376ee55a9f393057296cfd6b8b0d8802d57ebb99"
  },
  "kernelspec": {
   "display_name": "Python 3.8.5 ('.venv': venv)",
   "language": "python",
   "name": "python3"
  },
  "language_info": {
   "codemirror_mode": {
    "name": "ipython",
    "version": 3
   },
   "file_extension": ".py",
   "mimetype": "text/x-python",
   "name": "python",
   "nbconvert_exporter": "python",
   "pygments_lexer": "ipython3",
   "version": "3.8.5"
  },
  "orig_nbformat": 4
 },
 "nbformat": 4,
 "nbformat_minor": 2
}
