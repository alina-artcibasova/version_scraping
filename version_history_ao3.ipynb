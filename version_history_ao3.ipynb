{
 "cells": [
  {
   "cell_type": "markdown",
   "metadata": {},
   "source": [
    "# Ao3 version history\n",
    "\n",
    "Information based on [news posts](https://archiveofourown.org/languages/en/admin_posts?tag=1&page=1) from [Archive of Our Own](https://archiveofourown.org/)."
   ]
  },
  {
   "cell_type": "code",
   "execution_count": 84,
   "metadata": {},
   "outputs": [],
   "source": [
    "# package imports\n",
    "from gazpacho import get\n",
    "from gazpacho import Soup\n",
    "import time\n",
    "import random\n",
    "import pandas as pd\n",
    "import matplotlib.pyplot as plt"
   ]
  },
  {
   "cell_type": "markdown",
   "metadata": {},
   "source": [
    "## Determining the number of pages"
   ]
  },
  {
   "cell_type": "code",
   "execution_count": 1,
   "metadata": {},
   "outputs": [],
   "source": [
    "# initial url to grab number of pages\n",
    "url = \"https://archiveofourown.org/languages/en/admin_posts?tag=1&page=1\"\n",
    "html = get(url)"
   ]
  },
  {
   "cell_type": "code",
   "execution_count": 14,
   "metadata": {},
   "outputs": [
    {
     "data": {
      "text/plain": [
       "[<li class=\"previous\" title=\"previous\">\n",
       "   <span class=\"disabled\">← Previous</span>\n",
       " </li>,\n",
       " <li>\n",
       "   <span class=\"current\">1</span>\n",
       " </li>,\n",
       " <li><a rel=\"next\" href=\"/languages/en/admin_posts?page=2&tag=1\">2</a></li>,\n",
       " <li><a href=\"/languages/en/admin_posts?page=3&tag=1\">3</a></li>,\n",
       " <li><a href=\"/languages/en/admin_posts?page=4&tag=1\">4</a></li>,\n",
       " <li><a href=\"/languages/en/admin_posts?page=5&tag=1\">5</a></li>,\n",
       " <li><a href=\"/languages/en/admin_posts?page=6&tag=1\">6</a></li>,\n",
       " <li><a href=\"/languages/en/admin_posts?page=7&tag=1\">7</a></li>,\n",
       " <li><a href=\"/languages/en/admin_posts?page=8&tag=1\">8</a></li>,\n",
       " <li><a href=\"/languages/en/admin_posts?page=9&tag=1\">9</a></li>,\n",
       " <li class=\"gap\">…</li>,\n",
       " <li><a href=\"/languages/en/admin_posts?page=18&tag=1\">18</a></li>,\n",
       " <li><a href=\"/languages/en/admin_posts?page=19&tag=1\">19</a></li>,\n",
       " <li class=\"next\" title=\"next\"><a rel=\"next\" href=\"/languages/en/admin_posts?page=2&tag=1\">Next →</a></li>]"
      ]
     },
     "execution_count": 14,
     "metadata": {},
     "output_type": "execute_result"
    }
   ],
   "source": [
    "# grabbing pagination info from the paginatoin actions class\n",
    "soup = Soup(html)\n",
    "cards = soup.find(\"ol\", {\"class\": \"pagination actions\"})\n",
    "cards = cards.find(\"li\")\n",
    "cards"
   ]
  },
  {
   "cell_type": "code",
   "execution_count": 21,
   "metadata": {},
   "outputs": [
    {
     "data": {
      "text/plain": [
       "['← Previous',\n",
       " '1',\n",
       " '2',\n",
       " '3',\n",
       " '4',\n",
       " '5',\n",
       " '6',\n",
       " '7',\n",
       " '8',\n",
       " '9',\n",
       " '…',\n",
       " '18',\n",
       " '19',\n",
       " 'Next →']"
      ]
     },
     "execution_count": 21,
     "metadata": {},
     "output_type": "execute_result"
    }
   ],
   "source": [
    "pagination = [card.text for card in cards]\n",
    "pagination"
   ]
  },
  {
   "cell_type": "code",
   "execution_count": 23,
   "metadata": {},
   "outputs": [
    {
     "data": {
      "text/plain": [
       "'19'"
      ]
     },
     "execution_count": 23,
     "metadata": {},
     "output_type": "execute_result"
    }
   ],
   "source": [
    "number_of_pages = pagination[-2]\n",
    "number_of_pages"
   ]
  },
  {
   "cell_type": "markdown",
   "metadata": {},
   "source": [
    "## Data from example page"
   ]
  },
  {
   "cell_type": "code",
   "execution_count": 35,
   "metadata": {},
   "outputs": [
    {
     "data": {
      "text/plain": [
       "['Releases 0.9.298, 0.9.306 - 0.9.309: Change Log',\n",
       " 'Releases 0.9.299 - 0.9.305: Change Log',\n",
       " 'Release 0.9.297: Change Log',\n",
       " 'Releases 0.9.295 - 0.9.296: Change Log',\n",
       " 'Releases 0.9.290 - 0.9.293: Change Log',\n",
       " 'Releases 0.9.286 - 0.9.288: Change Log',\n",
       " 'Releases 0.9.280 - 0.9.285: Change Log',\n",
       " 'Releases 0.9.276 - 0.9.279: Change Log']"
      ]
     },
     "execution_count": 35,
     "metadata": {},
     "output_type": "execute_result"
    }
   ],
   "source": [
    "cards_heading = soup.find(\"h3\", {\"class\": \"heading\"}, partial = False)\n",
    "cards_heading\n",
    "releases = [card.text for card in cards_heading]\n",
    "releases"
   ]
  },
  {
   "cell_type": "code",
   "execution_count": 37,
   "metadata": {},
   "outputs": [
    {
     "data": {
      "text/plain": [
       "['2021-11-11 23:43:18 UTC',\n",
       " '2021-07-27 20:15:19 UTC',\n",
       " '2021-01-23 19:09:49 UTC',\n",
       " '2020-12-08 15:06:47 UTC',\n",
       " '2020-08-17 13:53:14 UTC',\n",
       " '2020-06-24 17:39:57 UTC',\n",
       " '2020-04-14 19:39:56 UTC',\n",
       " '2020-03-18 23:16:03 UTC']"
      ]
     },
     "execution_count": 37,
     "metadata": {},
     "output_type": "execute_result"
    }
   ],
   "source": [
    "cards_timestamp = soup.find(\"dd\", {\"class\": \"published\"})\n",
    "cards_timestamp\n",
    "timestamps = [card.text for card in cards_timestamp]\n",
    "timestamps"
   ]
  },
  {
   "cell_type": "code",
   "execution_count": 46,
   "metadata": {},
   "outputs": [
    {
     "data": {
      "text/plain": [
       "{'2021-11-11 23:43:18 UTC': 'Releases 0.9.298, 0.9.306 - 0.9.309: Change Log',\n",
       " '2021-07-27 20:15:19 UTC': 'Releases 0.9.299 - 0.9.305: Change Log',\n",
       " '2021-01-23 19:09:49 UTC': 'Release 0.9.297: Change Log',\n",
       " '2020-12-08 15:06:47 UTC': 'Releases 0.9.295 - 0.9.296: Change Log',\n",
       " '2020-08-17 13:53:14 UTC': 'Releases 0.9.290 - 0.9.293: Change Log',\n",
       " '2020-06-24 17:39:57 UTC': 'Releases 0.9.286 - 0.9.288: Change Log',\n",
       " '2020-04-14 19:39:56 UTC': 'Releases 0.9.280 - 0.9.285: Change Log',\n",
       " '2020-03-18 23:16:03 UTC': 'Releases 0.9.276 - 0.9.279: Change Log'}"
      ]
     },
     "execution_count": 46,
     "metadata": {},
     "output_type": "execute_result"
    }
   ],
   "source": [
    "page_dict = {timestamp:release for (release,timestamp) in zip(releases,timestamps)}\n",
    "page_dict"
   ]
  },
  {
   "cell_type": "markdown",
   "metadata": {},
   "source": [
    "## Data for all pages\n"
   ]
  },
  {
   "cell_type": "code",
   "execution_count": 61,
   "metadata": {},
   "outputs": [],
   "source": [
    "def grab_data(url):\n",
    "    \"\"\"\n",
    "    This function takes in Archive of Our Own `url` of the news page\n",
    "    and returns a dictionary where keys are the timestamps,\n",
    "    and values are the newspost headings.\n",
    "    \"\"\"\n",
    "    html = get(url)\n",
    "    soup = Soup(html)\n",
    "    cards_heading = soup.find(\"h3\", {\"class\": \"heading\"}, partial = False)\n",
    "    titles = [card.text for card in cards_heading]\n",
    "    cards_timestamp = soup.find(\"dd\", {\"class\": \"published\"})\n",
    "    timestamps = [card.text for card in cards_timestamp]\n",
    "    page_list = [{'timestamp':timestamp, 'title':title} for (title,timestamp) in zip(titles,timestamps)]\n",
    "    return page_list"
   ]
  },
  {
   "cell_type": "code",
   "execution_count": 62,
   "metadata": {},
   "outputs": [
    {
     "data": {
      "text/plain": [
       "[{'timestamp': '2021-11-11 23:43:18 UTC',\n",
       "  'title': 'Releases 0.9.298, 0.9.306 - 0.9.309: Change Log'},\n",
       " {'timestamp': '2021-07-27 20:15:19 UTC',\n",
       "  'title': 'Releases 0.9.299 - 0.9.305: Change Log'},\n",
       " {'timestamp': '2021-01-23 19:09:49 UTC',\n",
       "  'title': 'Release 0.9.297: Change Log'},\n",
       " {'timestamp': '2020-12-08 15:06:47 UTC',\n",
       "  'title': 'Releases 0.9.295 - 0.9.296: Change Log'},\n",
       " {'timestamp': '2020-08-17 13:53:14 UTC',\n",
       "  'title': 'Releases 0.9.290 - 0.9.293: Change Log'},\n",
       " {'timestamp': '2020-06-24 17:39:57 UTC',\n",
       "  'title': 'Releases 0.9.286 - 0.9.288: Change Log'},\n",
       " {'timestamp': '2020-04-14 19:39:56 UTC',\n",
       "  'title': 'Releases 0.9.280 - 0.9.285: Change Log'},\n",
       " {'timestamp': '2020-03-18 23:16:03 UTC',\n",
       "  'title': 'Releases 0.9.276 - 0.9.279: Change Log'}]"
      ]
     },
     "execution_count": 62,
     "metadata": {},
     "output_type": "execute_result"
    }
   ],
   "source": [
    "url = \"https://archiveofourown.org/languages/en/admin_posts?tag=1&page=1\"\n",
    "grab_data(url)"
   ]
  },
  {
   "cell_type": "code",
   "execution_count": 76,
   "metadata": {},
   "outputs": [],
   "source": [
    "url_template = \"https://archiveofourown.org/languages/en/admin_posts?tag=1&page=\"\n",
    "news_list = []\n",
    "for i in range(1, int(number_of_pages)+1):\n",
    "    url = url_template + str(i)\n",
    "    news_list = news_list + grab_data(url)\n",
    "    time.sleep(random.randint(3, 6)) # sleeping to avoid requests to the site being fired too often"
   ]
  },
  {
   "cell_type": "code",
   "execution_count": 88,
   "metadata": {},
   "outputs": [
    {
     "data": {
      "text/plain": [
       "[{'timestamp': '2021-11-11 23:43:18 UTC',\n",
       "  'title': 'Releases 0.9.298, 0.9.306 - 0.9.309: Change Log'},\n",
       " {'timestamp': '2021-07-27 20:15:19 UTC',\n",
       "  'title': 'Releases 0.9.299 - 0.9.305: Change Log'},\n",
       " {'timestamp': '2021-01-23 19:09:49 UTC',\n",
       "  'title': 'Release 0.9.297: Change Log'},\n",
       " {'timestamp': '2020-12-08 15:06:47 UTC',\n",
       "  'title': 'Releases 0.9.295 - 0.9.296: Change Log'},\n",
       " {'timestamp': '2020-08-17 13:53:14 UTC',\n",
       "  'title': 'Releases 0.9.290 - 0.9.293: Change Log'}]"
      ]
     },
     "execution_count": 88,
     "metadata": {},
     "output_type": "execute_result"
    }
   ],
   "source": [
    "news_list[0:5]"
   ]
  },
  {
   "cell_type": "markdown",
   "metadata": {},
   "source": [
    "## Making data pretty"
   ]
  },
  {
   "cell_type": "code",
   "execution_count": 78,
   "metadata": {},
   "outputs": [
    {
     "data": {
      "text/html": [
       "<div>\n",
       "<style scoped>\n",
       "    .dataframe tbody tr th:only-of-type {\n",
       "        vertical-align: middle;\n",
       "    }\n",
       "\n",
       "    .dataframe tbody tr th {\n",
       "        vertical-align: top;\n",
       "    }\n",
       "\n",
       "    .dataframe thead th {\n",
       "        text-align: right;\n",
       "    }\n",
       "</style>\n",
       "<table border=\"1\" class=\"dataframe\">\n",
       "  <thead>\n",
       "    <tr style=\"text-align: right;\">\n",
       "      <th></th>\n",
       "      <th>timestamp</th>\n",
       "      <th>title</th>\n",
       "    </tr>\n",
       "  </thead>\n",
       "  <tbody>\n",
       "    <tr>\n",
       "      <th>0</th>\n",
       "      <td>2021-11-11 23:43:18 UTC</td>\n",
       "      <td>Releases 0.9.298, 0.9.306 - 0.9.309: Change Log</td>\n",
       "    </tr>\n",
       "    <tr>\n",
       "      <th>1</th>\n",
       "      <td>2021-07-27 20:15:19 UTC</td>\n",
       "      <td>Releases 0.9.299 - 0.9.305: Change Log</td>\n",
       "    </tr>\n",
       "    <tr>\n",
       "      <th>2</th>\n",
       "      <td>2021-01-23 19:09:49 UTC</td>\n",
       "      <td>Release 0.9.297: Change Log</td>\n",
       "    </tr>\n",
       "    <tr>\n",
       "      <th>3</th>\n",
       "      <td>2020-12-08 15:06:47 UTC</td>\n",
       "      <td>Releases 0.9.295 - 0.9.296: Change Log</td>\n",
       "    </tr>\n",
       "    <tr>\n",
       "      <th>4</th>\n",
       "      <td>2020-08-17 13:53:14 UTC</td>\n",
       "      <td>Releases 0.9.290 - 0.9.293: Change Log</td>\n",
       "    </tr>\n",
       "    <tr>\n",
       "      <th>...</th>\n",
       "      <td>...</td>\n",
       "      <td>...</td>\n",
       "    </tr>\n",
       "    <tr>\n",
       "      <th>143</th>\n",
       "      <td>2009-12-17 22:28:55 UTC</td>\n",
       "      <td>Release Notes for Release 0.7.2</td>\n",
       "    </tr>\n",
       "    <tr>\n",
       "      <th>144</th>\n",
       "      <td>2009-12-01 16:58:40 UTC</td>\n",
       "      <td>Release notes for R1789</td>\n",
       "    </tr>\n",
       "    <tr>\n",
       "      <th>145</th>\n",
       "      <td>2009-11-22 23:23:49 UTC</td>\n",
       "      <td>Release Notes for R1762</td>\n",
       "    </tr>\n",
       "    <tr>\n",
       "      <th>146</th>\n",
       "      <td>2009-11-07 21:44:49 UTC</td>\n",
       "      <td>Release Notes for R1692</td>\n",
       "    </tr>\n",
       "    <tr>\n",
       "      <th>147</th>\n",
       "      <td>2009-10-17 21:53:29 UTC</td>\n",
       "      <td>Release Notes for R1585</td>\n",
       "    </tr>\n",
       "  </tbody>\n",
       "</table>\n",
       "<p>148 rows × 2 columns</p>\n",
       "</div>"
      ],
      "text/plain": [
       "                   timestamp                                            title\n",
       "0    2021-11-11 23:43:18 UTC  Releases 0.9.298, 0.9.306 - 0.9.309: Change Log\n",
       "1    2021-07-27 20:15:19 UTC           Releases 0.9.299 - 0.9.305: Change Log\n",
       "2    2021-01-23 19:09:49 UTC                      Release 0.9.297: Change Log\n",
       "3    2020-12-08 15:06:47 UTC           Releases 0.9.295 - 0.9.296: Change Log\n",
       "4    2020-08-17 13:53:14 UTC           Releases 0.9.290 - 0.9.293: Change Log\n",
       "..                       ...                                              ...\n",
       "143  2009-12-17 22:28:55 UTC                  Release Notes for Release 0.7.2\n",
       "144  2009-12-01 16:58:40 UTC                          Release notes for R1789\n",
       "145  2009-11-22 23:23:49 UTC                          Release Notes for R1762\n",
       "146  2009-11-07 21:44:49 UTC                          Release Notes for R1692\n",
       "147  2009-10-17 21:53:29 UTC                          Release Notes for R1585\n",
       "\n",
       "[148 rows x 2 columns]"
      ]
     },
     "execution_count": 78,
     "metadata": {},
     "output_type": "execute_result"
    }
   ],
   "source": [
    "pandas_df = pd.DataFrame(news_list)\n",
    "pandas_df.assign(timestamp=lambda d: pd.to_datetime(d[\"timestamp\"]))\n",
    "pandas_df"
   ]
  },
  {
   "cell_type": "code",
   "execution_count": 79,
   "metadata": {},
   "outputs": [
    {
     "data": {
      "text/plain": [
       "count                         148\n",
       "unique                        148\n",
       "top       2021-11-11 23:43:18 UTC\n",
       "freq                            1\n",
       "Name: timestamp, dtype: object"
      ]
     },
     "execution_count": 79,
     "metadata": {},
     "output_type": "execute_result"
    }
   ],
   "source": [
    "pandas_df.timestamp.describe()"
   ]
  },
  {
   "cell_type": "code",
   "execution_count": 80,
   "metadata": {},
   "outputs": [
    {
     "data": {
      "text/html": [
       "<div>\n",
       "<style scoped>\n",
       "    .dataframe tbody tr th:only-of-type {\n",
       "        vertical-align: middle;\n",
       "    }\n",
       "\n",
       "    .dataframe tbody tr th {\n",
       "        vertical-align: top;\n",
       "    }\n",
       "\n",
       "    .dataframe thead th {\n",
       "        text-align: right;\n",
       "    }\n",
       "</style>\n",
       "<table border=\"1\" class=\"dataframe\">\n",
       "  <thead>\n",
       "    <tr style=\"text-align: right;\">\n",
       "      <th></th>\n",
       "      <th>timestamp</th>\n",
       "      <th>title</th>\n",
       "      <th>year</th>\n",
       "    </tr>\n",
       "  </thead>\n",
       "  <tbody>\n",
       "    <tr>\n",
       "      <th>0</th>\n",
       "      <td>2021-11-11 23:43:18 UTC</td>\n",
       "      <td>Releases 0.9.298, 0.9.306 - 0.9.309: Change Log</td>\n",
       "      <td>2021</td>\n",
       "    </tr>\n",
       "    <tr>\n",
       "      <th>1</th>\n",
       "      <td>2021-07-27 20:15:19 UTC</td>\n",
       "      <td>Releases 0.9.299 - 0.9.305: Change Log</td>\n",
       "      <td>2021</td>\n",
       "    </tr>\n",
       "    <tr>\n",
       "      <th>2</th>\n",
       "      <td>2021-01-23 19:09:49 UTC</td>\n",
       "      <td>Release 0.9.297: Change Log</td>\n",
       "      <td>2021</td>\n",
       "    </tr>\n",
       "    <tr>\n",
       "      <th>3</th>\n",
       "      <td>2020-12-08 15:06:47 UTC</td>\n",
       "      <td>Releases 0.9.295 - 0.9.296: Change Log</td>\n",
       "      <td>2020</td>\n",
       "    </tr>\n",
       "    <tr>\n",
       "      <th>4</th>\n",
       "      <td>2020-08-17 13:53:14 UTC</td>\n",
       "      <td>Releases 0.9.290 - 0.9.293: Change Log</td>\n",
       "      <td>2020</td>\n",
       "    </tr>\n",
       "    <tr>\n",
       "      <th>...</th>\n",
       "      <td>...</td>\n",
       "      <td>...</td>\n",
       "      <td>...</td>\n",
       "    </tr>\n",
       "    <tr>\n",
       "      <th>143</th>\n",
       "      <td>2009-12-17 22:28:55 UTC</td>\n",
       "      <td>Release Notes for Release 0.7.2</td>\n",
       "      <td>2009</td>\n",
       "    </tr>\n",
       "    <tr>\n",
       "      <th>144</th>\n",
       "      <td>2009-12-01 16:58:40 UTC</td>\n",
       "      <td>Release notes for R1789</td>\n",
       "      <td>2009</td>\n",
       "    </tr>\n",
       "    <tr>\n",
       "      <th>145</th>\n",
       "      <td>2009-11-22 23:23:49 UTC</td>\n",
       "      <td>Release Notes for R1762</td>\n",
       "      <td>2009</td>\n",
       "    </tr>\n",
       "    <tr>\n",
       "      <th>146</th>\n",
       "      <td>2009-11-07 21:44:49 UTC</td>\n",
       "      <td>Release Notes for R1692</td>\n",
       "      <td>2009</td>\n",
       "    </tr>\n",
       "    <tr>\n",
       "      <th>147</th>\n",
       "      <td>2009-10-17 21:53:29 UTC</td>\n",
       "      <td>Release Notes for R1585</td>\n",
       "      <td>2009</td>\n",
       "    </tr>\n",
       "  </tbody>\n",
       "</table>\n",
       "<p>148 rows × 3 columns</p>\n",
       "</div>"
      ],
      "text/plain": [
       "                   timestamp                                            title  \\\n",
       "0    2021-11-11 23:43:18 UTC  Releases 0.9.298, 0.9.306 - 0.9.309: Change Log   \n",
       "1    2021-07-27 20:15:19 UTC           Releases 0.9.299 - 0.9.305: Change Log   \n",
       "2    2021-01-23 19:09:49 UTC                      Release 0.9.297: Change Log   \n",
       "3    2020-12-08 15:06:47 UTC           Releases 0.9.295 - 0.9.296: Change Log   \n",
       "4    2020-08-17 13:53:14 UTC           Releases 0.9.290 - 0.9.293: Change Log   \n",
       "..                       ...                                              ...   \n",
       "143  2009-12-17 22:28:55 UTC                  Release Notes for Release 0.7.2   \n",
       "144  2009-12-01 16:58:40 UTC                          Release notes for R1789   \n",
       "145  2009-11-22 23:23:49 UTC                          Release Notes for R1762   \n",
       "146  2009-11-07 21:44:49 UTC                          Release Notes for R1692   \n",
       "147  2009-10-17 21:53:29 UTC                          Release Notes for R1585   \n",
       "\n",
       "     year  \n",
       "0    2021  \n",
       "1    2021  \n",
       "2    2021  \n",
       "3    2020  \n",
       "4    2020  \n",
       "..    ...  \n",
       "143  2009  \n",
       "144  2009  \n",
       "145  2009  \n",
       "146  2009  \n",
       "147  2009  \n",
       "\n",
       "[148 rows x 3 columns]"
      ]
     },
     "execution_count": 80,
     "metadata": {},
     "output_type": "execute_result"
    }
   ],
   "source": [
    "pandas_df['year'] = pd.DatetimeIndex(pandas_df.timestamp).year\n",
    "pandas_df"
   ]
  },
  {
   "cell_type": "code",
   "execution_count": 81,
   "metadata": {},
   "outputs": [
    {
     "data": {
      "text/plain": [
       "array([2021, 2020, 2019, 2018, 2017, 2016, 2015, 2014, 2013, 2012, 2011,\n",
       "       2010, 2009], dtype=int64)"
      ]
     },
     "execution_count": 81,
     "metadata": {},
     "output_type": "execute_result"
    }
   ],
   "source": [
    "pandas_df.year.unique()"
   ]
  },
  {
   "cell_type": "code",
   "execution_count": 82,
   "metadata": {},
   "outputs": [
    {
     "data": {
      "text/plain": [
       "13"
      ]
     },
     "execution_count": 82,
     "metadata": {},
     "output_type": "execute_result"
    }
   ],
   "source": [
    "pandas_df.year.nunique()"
   ]
  },
  {
   "cell_type": "code",
   "execution_count": 85,
   "metadata": {},
   "outputs": [
    {
     "data": {
      "image/png": "[encoded data removed]",
      "text/plain": [
       "<Figure size 432x288 with 1 Axes>"
      ]
     },
     "metadata": {
      "needs_background": "light"
     },
     "output_type": "display_data"
    }
   ],
   "source": [
    "matplotlib_plot = plt.hist(pandas_df.year,\n",
    "         edgecolor='black',\n",
    "         bins=pandas_df.year.nunique());\n",
    "plt.xlabel('Year')\n",
    "plt.ylabel('Releases')\n",
    "plt.title('Archive of Our Own releases per year')\n",
    "plt.show()"
   ]
  }
 ],
 "metadata": {
  "interpreter": {
   "hash": "8eedf075f987c6917b54ad0d376ee55a9f393057296cfd6b8b0d8802d57ebb99"
  },
  "kernelspec": {
   "display_name": "Python 3.8.5 ('.venv': venv)",
   "language": "python",
   "name": "python3"
  },
  "language_info": {
   "codemirror_mode": {
    "name": "ipython",
    "version": 3
   },
   "file_extension": ".py",
   "mimetype": "text/x-python",
   "name": "python",
   "nbconvert_exporter": "python",
   "pygments_lexer": "ipython3",
   "version": "3.8.5"
  },
  "orig_nbformat": 4
 },
 "nbformat": 4,
 "nbformat_minor": 2
}
