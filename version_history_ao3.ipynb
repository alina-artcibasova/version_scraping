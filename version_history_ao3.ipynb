{
 "cells": [
  {
   "cell_type": "markdown",
   "metadata": {},
   "source": [
    "# Ao3 version history\n",
    "\n",
    "Information based on [news posts](https://archiveofourown.org/languages/en/admin_posts?tag=1&page=1) from [Archive of Our Own](https://archiveofourown.org/)."
   ]
  },
  {
   "cell_type": "code",
   "execution_count": 59,
   "metadata": {},
   "outputs": [],
   "source": [
    "# package imports\n",
    "from gazpacho import get\n",
    "from gazpacho import Soup\n",
    "import time\n",
    "import random\n",
    "import pandas as pd\n",
    "import matplotlib.pyplot as plt"
   ]
  },
  {
   "cell_type": "markdown",
   "metadata": {},
   "source": [
    "## Determining the number of pages"
   ]
  },
  {
   "cell_type": "code",
   "execution_count": 1,
   "metadata": {},
   "outputs": [],
   "source": [
    "# initial url to grab number of pages\n",
    "url = \"https://archiveofourown.org/languages/en/admin_posts?tag=1&page=1\"\n",
    "html = get(url)"
   ]
  },
  {
   "cell_type": "code",
   "execution_count": 14,
   "metadata": {},
   "outputs": [
    {
     "data": {
      "text/plain": [
       "[<li class=\"previous\" title=\"previous\">\n",
       "   <span class=\"disabled\">← Previous</span>\n",
       " </li>,\n",
       " <li>\n",
       "   <span class=\"current\">1</span>\n",
       " </li>,\n",
       " <li><a rel=\"next\" href=\"/languages/en/admin_posts?page=2&tag=1\">2</a></li>,\n",
       " <li><a href=\"/languages/en/admin_posts?page=3&tag=1\">3</a></li>,\n",
       " <li><a href=\"/languages/en/admin_posts?page=4&tag=1\">4</a></li>,\n",
       " <li><a href=\"/languages/en/admin_posts?page=5&tag=1\">5</a></li>,\n",
       " <li><a href=\"/languages/en/admin_posts?page=6&tag=1\">6</a></li>,\n",
       " <li><a href=\"/languages/en/admin_posts?page=7&tag=1\">7</a></li>,\n",
       " <li><a href=\"/languages/en/admin_posts?page=8&tag=1\">8</a></li>,\n",
       " <li><a href=\"/languages/en/admin_posts?page=9&tag=1\">9</a></li>,\n",
       " <li class=\"gap\">…</li>,\n",
       " <li><a href=\"/languages/en/admin_posts?page=18&tag=1\">18</a></li>,\n",
       " <li><a href=\"/languages/en/admin_posts?page=19&tag=1\">19</a></li>,\n",
       " <li class=\"next\" title=\"next\"><a rel=\"next\" href=\"/languages/en/admin_posts?page=2&tag=1\">Next →</a></li>]"
      ]
     },
     "execution_count": 14,
     "metadata": {},
     "output_type": "execute_result"
    }
   ],
   "source": [
    "# grabbing pagination info from the paginatoin actions class\n",
    "soup = Soup(html)\n",
    "cards = soup.find(\"ol\", {\"class\": \"pagination actions\"})\n",
    "cards = cards.find(\"li\")\n",
    "cards"
   ]
  },
  {
   "cell_type": "code",
   "execution_count": 21,
   "metadata": {},
   "outputs": [
    {
     "data": {
      "text/plain": [
       "['← Previous',\n",
       " '1',\n",
       " '2',\n",
       " '3',\n",
       " '4',\n",
       " '5',\n",
       " '6',\n",
       " '7',\n",
       " '8',\n",
       " '9',\n",
       " '…',\n",
       " '18',\n",
       " '19',\n",
       " 'Next →']"
      ]
     },
     "execution_count": 21,
     "metadata": {},
     "output_type": "execute_result"
    }
   ],
   "source": [
    "pagination = [card.text for card in cards]\n",
    "pagination"
   ]
  },
  {
   "cell_type": "code",
   "execution_count": 23,
   "metadata": {},
   "outputs": [
    {
     "data": {
      "text/plain": [
       "'19'"
      ]
     },
     "execution_count": 23,
     "metadata": {},
     "output_type": "execute_result"
    }
   ],
   "source": [
    "number_of_pages = pagination[-2]\n",
    "number_of_pages"
   ]
  },
  {
   "cell_type": "markdown",
   "metadata": {},
   "source": [
    "## Data from example page"
   ]
  },
  {
   "cell_type": "code",
   "execution_count": 35,
   "metadata": {},
   "outputs": [
    {
     "data": {
      "text/plain": [
       "['Releases 0.9.298, 0.9.306 - 0.9.309: Change Log',\n",
       " 'Releases 0.9.299 - 0.9.305: Change Log',\n",
       " 'Release 0.9.297: Change Log',\n",
       " 'Releases 0.9.295 - 0.9.296: Change Log',\n",
       " 'Releases 0.9.290 - 0.9.293: Change Log',\n",
       " 'Releases 0.9.286 - 0.9.288: Change Log',\n",
       " 'Releases 0.9.280 - 0.9.285: Change Log',\n",
       " 'Releases 0.9.276 - 0.9.279: Change Log']"
      ]
     },
     "execution_count": 35,
     "metadata": {},
     "output_type": "execute_result"
    }
   ],
   "source": [
    "cards_heading = soup.find(\"h3\", {\"class\": \"heading\"}, partial = False)\n",
    "cards_heading\n",
    "releases = [card.text for card in cards_heading]\n",
    "releases"
   ]
  },
  {
   "cell_type": "code",
   "execution_count": 37,
   "metadata": {},
   "outputs": [
    {
     "data": {
      "text/plain": [
       "['2021-11-11 23:43:18 UTC',\n",
       " '2021-07-27 20:15:19 UTC',\n",
       " '2021-01-23 19:09:49 UTC',\n",
       " '2020-12-08 15:06:47 UTC',\n",
       " '2020-08-17 13:53:14 UTC',\n",
       " '2020-06-24 17:39:57 UTC',\n",
       " '2020-04-14 19:39:56 UTC',\n",
       " '2020-03-18 23:16:03 UTC']"
      ]
     },
     "execution_count": 37,
     "metadata": {},
     "output_type": "execute_result"
    }
   ],
   "source": [
    "cards_timestamp = soup.find(\"dd\", {\"class\": \"published\"})\n",
    "cards_timestamp\n",
    "timestamps = [card.text for card in cards_timestamp]\n",
    "timestamps"
   ]
  },
  {
   "cell_type": "code",
   "execution_count": 46,
   "metadata": {},
   "outputs": [
    {
     "data": {
      "text/plain": [
       "{'2021-11-11 23:43:18 UTC': 'Releases 0.9.298, 0.9.306 - 0.9.309: Change Log',\n",
       " '2021-07-27 20:15:19 UTC': 'Releases 0.9.299 - 0.9.305: Change Log',\n",
       " '2021-01-23 19:09:49 UTC': 'Release 0.9.297: Change Log',\n",
       " '2020-12-08 15:06:47 UTC': 'Releases 0.9.295 - 0.9.296: Change Log',\n",
       " '2020-08-17 13:53:14 UTC': 'Releases 0.9.290 - 0.9.293: Change Log',\n",
       " '2020-06-24 17:39:57 UTC': 'Releases 0.9.286 - 0.9.288: Change Log',\n",
       " '2020-04-14 19:39:56 UTC': 'Releases 0.9.280 - 0.9.285: Change Log',\n",
       " '2020-03-18 23:16:03 UTC': 'Releases 0.9.276 - 0.9.279: Change Log'}"
      ]
     },
     "execution_count": 46,
     "metadata": {},
     "output_type": "execute_result"
    }
   ],
   "source": [
    "page_dict = {timestamp:release for (release,timestamp) in zip(releases,timestamps)}\n",
    "page_dict"
   ]
  },
  {
   "cell_type": "markdown",
   "metadata": {},
   "source": [
    "## Data for all pages\n"
   ]
  },
  {
   "cell_type": "code",
   "execution_count": 61,
   "metadata": {},
   "outputs": [],
   "source": [
    "def grab_data(url):\n",
    "    \"\"\"\n",
    "    This function takes in Archive of Our Own `url` of the news page\n",
    "    and returns a dictionary where keys are the timestamps,\n",
    "    and values are the newspost headings.\n",
    "    \"\"\"\n",
    "    html = get(url)\n",
    "    soup = Soup(html)\n",
    "    cards_heading = soup.find(\"h3\", {\"class\": \"heading\"}, partial = False)\n",
    "    titles = [card.text for card in cards_heading]\n",
    "    cards_timestamp = soup.find(\"dd\", {\"class\": \"published\"})\n",
    "    timestamps = [card.text for card in cards_timestamp]\n",
    "    page_list = [{'timestamp':timestamp, 'title':title} for (title,timestamp) in zip(titles,timestamps)]\n",
    "    return page_list"
   ]
  },
  {
   "cell_type": "code",
   "execution_count": 62,
   "metadata": {},
   "outputs": [
    {
     "data": {
      "text/plain": [
       "[{'timestamp': '2021-11-11 23:43:18 UTC',\n",
       "  'title': 'Releases 0.9.298, 0.9.306 - 0.9.309: Change Log'},\n",
       " {'timestamp': '2021-07-27 20:15:19 UTC',\n",
       "  'title': 'Releases 0.9.299 - 0.9.305: Change Log'},\n",
       " {'timestamp': '2021-01-23 19:09:49 UTC',\n",
       "  'title': 'Release 0.9.297: Change Log'},\n",
       " {'timestamp': '2020-12-08 15:06:47 UTC',\n",
       "  'title': 'Releases 0.9.295 - 0.9.296: Change Log'},\n",
       " {'timestamp': '2020-08-17 13:53:14 UTC',\n",
       "  'title': 'Releases 0.9.290 - 0.9.293: Change Log'},\n",
       " {'timestamp': '2020-06-24 17:39:57 UTC',\n",
       "  'title': 'Releases 0.9.286 - 0.9.288: Change Log'},\n",
       " {'timestamp': '2020-04-14 19:39:56 UTC',\n",
       "  'title': 'Releases 0.9.280 - 0.9.285: Change Log'},\n",
       " {'timestamp': '2020-03-18 23:16:03 UTC',\n",
       "  'title': 'Releases 0.9.276 - 0.9.279: Change Log'}]"
      ]
     },
     "execution_count": 62,
     "metadata": {},
     "output_type": "execute_result"
    }
   ],
   "source": [
    "url = \"https://archiveofourown.org/languages/en/admin_posts?tag=1&page=1\"\n",
    "grab_data(url)"
   ]
  },
  {
   "cell_type": "code",
   "execution_count": 76,
   "metadata": {},
   "outputs": [],
   "source": [
    "url_template = \"https://archiveofourown.org/languages/en/admin_posts?tag=1&page=\"\n",
    "news_list = []\n",
    "for i in range(1, int(number_of_pages)+1):\n",
    "    url = url_template + str(i)\n",
    "    news_list = news_list + grab_data(url)\n",
    "    time.sleep(random.randint(3, 6)) # sleeping to avoid requests to the site being fired too often"
   ]
  },
  {
   "cell_type": "code",
   "execution_count": 77,
   "metadata": {},
   "outputs": [
    {
     "data": {
      "text/plain": [
       "[{'timestamp': '2021-11-11 23:43:18 UTC',\n",
       "  'title': 'Releases 0.9.298, 0.9.306 - 0.9.309: Change Log'},\n",
       " {'timestamp': '2021-07-27 20:15:19 UTC',\n",
       "  'title': 'Releases 0.9.299 - 0.9.305: Change Log'},\n",
       " {'timestamp': '2021-01-23 19:09:49 UTC',\n",
       "  'title': 'Release 0.9.297: Change Log'},\n",
       " {'timestamp': '2020-12-08 15:06:47 UTC',\n",
       "  'title': 'Releases 0.9.295 - 0.9.296: Change Log'},\n",
       " {'timestamp': '2020-08-17 13:53:14 UTC',\n",
       "  'title': 'Releases 0.9.290 - 0.9.293: Change Log'},\n",
       " {'timestamp': '2020-06-24 17:39:57 UTC',\n",
       "  'title': 'Releases 0.9.286 - 0.9.288: Change Log'},\n",
       " {'timestamp': '2020-04-14 19:39:56 UTC',\n",
       "  'title': 'Releases 0.9.280 - 0.9.285: Change Log'},\n",
       " {'timestamp': '2020-03-18 23:16:03 UTC',\n",
       "  'title': 'Releases 0.9.276 - 0.9.279: Change Log'},\n",
       " {'timestamp': '2020-02-10 13:59:20 UTC',\n",
       "  'title': 'Releases 0.9.266 - 0.9.275: Change Log'},\n",
       " {'timestamp': '2019-12-21 12:16:00 UTC',\n",
       "  'title': 'Releases 0.9.257 - 0.9.265: Change Log'},\n",
       " {'timestamp': '2019-10-21 18:14:04 UTC',\n",
       "  'title': 'Releases 0.9.254 - 0.9.256: Change Log'},\n",
       " {'timestamp': '2019-09-07 07:30:43 UTC',\n",
       "  'title': 'Release 0.9.253: Change Log'},\n",
       " {'timestamp': '2019-08-16 20:31:29 UTC',\n",
       "  'title': 'Releases 0.9.248 - 0.9.252: Change Log'},\n",
       " {'timestamp': '2019-08-08 20:13:24 UTC',\n",
       "  'title': 'Releases 0.9.245 - 0.9.247: Change Log'},\n",
       " {'timestamp': '2019-04-10 12:40:41 UTC',\n",
       "  'title': 'Releases 0.9.238 - 0.9.244: Change Log'},\n",
       " {'timestamp': '2019-02-24 15:47:56 UTC',\n",
       "  'title': 'Releases 0.9.236 - 0.9.237: Change Log'},\n",
       " {'timestamp': '2019-01-27 20:13:24 UTC',\n",
       "  'title': 'Releases 0.9.232 - 0.9.235: Change Log'},\n",
       " {'timestamp': '2018-12-28 10:41:41 UTC',\n",
       "  'title': 'Releases 0.9.227 - 0.9.231: Change Log'},\n",
       " {'timestamp': '2018-11-13 15:55:28 UTC',\n",
       "  'title': 'Releases 0.9.221 - 0.9.226: Change Log'},\n",
       " {'timestamp': '2018-08-28 18:15:58 UTC',\n",
       "  'title': 'Release 0.9.220: Change Log'},\n",
       " {'timestamp': '2018-08-09 18:29:06 UTC',\n",
       "  'title': 'Releases 0.9.218 - 0.9.219: Change Log'},\n",
       " {'timestamp': '2018-07-03 11:31:32 UTC',\n",
       "  'title': 'Releases 0.9.210 - 0.9.217: Change Log'},\n",
       " {'timestamp': '2017-11-22 17:38:05 UTC',\n",
       "  'title': 'Releases 0.9.208 - 0.9.209: Change Log'},\n",
       " {'timestamp': '2017-10-21 21:43:04 UTC',\n",
       "  'title': 'Release 0.9.207: Change Log'},\n",
       " {'timestamp': '2017-10-12 17:48:34 UTC',\n",
       "  'title': 'Releases 0.9.205 - 0.9.206: Change Log'},\n",
       " {'timestamp': '2017-09-30 19:25:00 UTC',\n",
       "  'title': 'Releases 0.9.199 - 0.9.204: Change Log'},\n",
       " {'timestamp': '2017-08-06 01:17:29 UTC',\n",
       "  'title': 'Releases 0.9.194 - 0.9.198: Change Log'},\n",
       " {'timestamp': '2017-05-16 07:30:02 UTC',\n",
       "  'title': 'Releases 0.9.191 - 0.9.193: Change Log'},\n",
       " {'timestamp': '2017-04-26 21:50:17 UTC',\n",
       "  'title': 'Releases 0.9.186 - 0.9.190: Change Log'},\n",
       " {'timestamp': '2017-03-24 20:11:18 UTC',\n",
       "  'title': 'Releases 0.9.181 - 0.9.185: Change Log'},\n",
       " {'timestamp': '2017-02-22 02:34:10 UTC',\n",
       "  'title': 'Releases 0.9.175 - 0.9.180: Change Log'},\n",
       " {'timestamp': '2017-01-05 13:08:45 UTC',\n",
       "  'title': 'Releases 0.9.169 - 0.9.173: Change Log'},\n",
       " {'timestamp': '2016-12-11 10:50:14 UTC',\n",
       "  'title': 'Releases 0.9.167 - 0.9.168: Change Log'},\n",
       " {'timestamp': '2016-10-30 21:20:42 UTC',\n",
       "  'title': 'Release 0.9.166: Change Log'},\n",
       " {'timestamp': '2016-10-09 21:41:43 UTC',\n",
       "  'title': 'Releases 0.9.164 - 0.9.165: Change Log'},\n",
       " {'timestamp': '2016-09-24 23:29:41 UTC',\n",
       "  'title': 'Releases 0.9.159 - 0.9.163: Change Log'},\n",
       " {'timestamp': '2016-09-04 09:14:22 UTC',\n",
       "  'title': 'Releases 0.9.154 - 0.9.158: Change Log'},\n",
       " {'timestamp': '2016-08-10 20:43:11 UTC',\n",
       "  'title': 'Releases 0.9.140 - 0.9.153: Change Log'},\n",
       " {'timestamp': '2016-06-16 03:10:56 UTC',\n",
       "  'title': 'Releases 0.9.129 - 0.9.139: Change Log'},\n",
       " {'timestamp': '2016-03-24 21:02:11 UTC',\n",
       "  'title': 'Releases 0.9.117 - 0.9.128: Change Log'},\n",
       " {'timestamp': '2016-02-13 23:52:01 UTC',\n",
       "  'title': 'Releases 0.9.101 - 0.9.116: Change Log'},\n",
       " {'timestamp': '2016-01-02 09:54:14 UTC',\n",
       "  'title': 'Releases 0.9.92 - 0.9.100: Change Log'},\n",
       " {'timestamp': '2015-11-19 22:45:32 UTC',\n",
       "  'title': 'Releases 0.9.87 - 0.9.91: Change Log (Comment moderation released!)'},\n",
       " {'timestamp': '2015-10-28 21:53:46 UTC',\n",
       "  'title': 'Releases 0.9.79 - 0.9.86: Change Log'},\n",
       " {'timestamp': '2015-09-13 23:38:22 UTC',\n",
       "  'title': 'Releases 0.9.70 - 0.9.78: Change Log'},\n",
       " {'timestamp': '2015-07-20 03:10:04 UTC',\n",
       "  'title': 'Releases 0.9.65 - 0.9.69: Change Log'},\n",
       " {'timestamp': '2015-07-01 08:03:36 UTC',\n",
       "  'title': 'Release 0.9.64: Change Log'},\n",
       " {'timestamp': '2015-06-16 02:12:04 UTC',\n",
       "  'title': 'Release 0.9.63: Change Log'},\n",
       " {'timestamp': '2015-05-30 11:50:45 UTC',\n",
       "  'title': 'Release 0.9.62: Change Log'},\n",
       " {'timestamp': '2015-05-11 17:40:20 UTC',\n",
       "  'title': 'Releases 0.9.58 - 0.9.61: Change Log'},\n",
       " {'timestamp': '2015-04-30 22:43:08 UTC',\n",
       "  'title': 'Release 0.9.57: Change Log'},\n",
       " {'timestamp': '2015-04-24 13:40:32 UTC',\n",
       "  'title': 'Releases 0.9.55 - 0.9.56: Change Log'},\n",
       " {'timestamp': '2015-04-01 07:00:13 UTC',\n",
       "  'title': 'Release 0.9.54: Change Log'},\n",
       " {'timestamp': '2015-03-15 17:37:37 UTC',\n",
       "  'title': 'Release 0.9.53: Change Log'},\n",
       " {'timestamp': '2015-03-01 09:50:18 UTC',\n",
       "  'title': 'Release 0.9.51: Change Log'},\n",
       " {'timestamp': '2015-02-25 19:22:13 UTC',\n",
       "  'title': 'Release 0.9.49: Change Log (New Homepage!)'},\n",
       " {'timestamp': '2015-02-16 09:03:48 UTC',\n",
       "  'title': 'Releases 0.9.47 - 0.9.48: Change Log'},\n",
       " {'timestamp': '2015-02-01 09:45:18 UTC',\n",
       "  'title': 'Release 0.9.46: Change Log (The invitation queue is back!)'},\n",
       " {'timestamp': '2015-01-11 13:00:49 UTC',\n",
       "  'title': 'Releases 0.9.40 - 0.9.41: Change Log'},\n",
       " {'timestamp': '2014-12-31 15:03:14 UTC',\n",
       "  'title': 'Releases 0.9.37 - 0.9.39: Change Log'},\n",
       " {'timestamp': '2014-12-14 08:41:24 UTC',\n",
       "  'title': 'Release Notes 0.9.36: Change Log'},\n",
       " {'timestamp': '2014-12-02 20:25:44 UTC',\n",
       "  'title': 'Release 0.9.35: Change Log'},\n",
       " {'timestamp': '2014-11-19 02:44:48 UTC',\n",
       "  'title': 'Release 0.9.34: Change Log'},\n",
       " {'timestamp': '2014-11-02 14:39:14 UTC',\n",
       "  'title': 'Release 0.9.33: Change Log'},\n",
       " {'timestamp': '2014-10-29 19:56:11 UTC',\n",
       "  'title': 'Releases 0.9.30 - 0.9.32: Change Log'},\n",
       " {'timestamp': '2014-10-10 22:49:41 UTC',\n",
       "  'title': 'Releases 0.9.27 - 0.9.29: Change Log'},\n",
       " {'timestamp': '2014-10-06 21:35:19 UTC',\n",
       "  'title': 'Release 0.9.26: Change Log'},\n",
       " {'timestamp': '2014-09-29 21:06:34 UTC',\n",
       "  'title': 'Release 0.9.24: New FAQ code!'},\n",
       " {'timestamp': '2014-09-28 23:31:13 UTC',\n",
       "  'title': 'September Release Notes: Invisible Code!'},\n",
       " {'timestamp': '2014-09-09 20:43:05 UTC',\n",
       "  'title': 'Release 0.9.20: Improvements to our search index code!'},\n",
       " {'timestamp': '2014-08-28 21:09:45 UTC',\n",
       "  'title': 'Release 0.9.18: Change Log'},\n",
       " {'timestamp': '2014-08-12 21:17:41 UTC',\n",
       "  'title': 'Release 0.9.16: Change Log'},\n",
       " {'timestamp': '2014-07-29 03:53:14 UTC',\n",
       "  'title': 'Release 0.9.15 (Part 9): Change Log'},\n",
       " {'timestamp': '2014-07-13 16:45:00 UTC',\n",
       "  'title': 'Release 0.9.15 (Part 8): Change Log'},\n",
       " {'timestamp': '2014-07-01 16:33:37 UTC',\n",
       "  'title': 'Release 0.9.15 (Part 7): Change Log'},\n",
       " {'timestamp': '2014-06-27 20:16:13 UTC',\n",
       "  'title': 'Release 0.9.15 (Part 6): Change Log'},\n",
       " {'timestamp': '2014-06-17 20:00:07 UTC',\n",
       "  'title': 'Release 0.9.15 (Part 5): Change Log'},\n",
       " {'timestamp': '2014-06-11 17:15:55 UTC',\n",
       "  'title': 'Release 0.9.15 (Part 4): Change Log'},\n",
       " {'timestamp': '2014-06-08 20:37:32 UTC',\n",
       "  'title': 'Release 0.9.15 (Part 3): Change Log'},\n",
       " {'timestamp': '2014-06-05 18:54:38 UTC',\n",
       "  'title': 'Release 0.9.15 (Part 2): Change Log'},\n",
       " {'timestamp': '2014-05-12 17:59:57 UTC',\n",
       "  'title': 'Release 0.9.15 (Part 1): Change Log'},\n",
       " {'timestamp': '2014-05-03 19:19:54 UTC',\n",
       "  'title': 'Release 0.9.14 (Part 9): Change Log'},\n",
       " {'timestamp': '2014-04-24 18:40:42 UTC',\n",
       "  'title': 'Release 0.9.14 (Part 8): Change Log'},\n",
       " {'timestamp': '2014-04-21 09:29:08 UTC',\n",
       "  'title': 'Release 0.9.14 (Part 7): Change Log'},\n",
       " {'timestamp': '2014-04-17 21:49:23 UTC',\n",
       "  'title': 'Release 0.9.14 (Part 6): Change Log'},\n",
       " {'timestamp': '2014-04-13 15:34:09 UTC',\n",
       "  'title': 'Release 0.9.14 (Part 5): Change Log'},\n",
       " {'timestamp': '2014-04-04 15:30:14 UTC',\n",
       "  'title': 'Release 0.9.14 (Part 4): Change Log'},\n",
       " {'timestamp': '2014-03-05 13:21:13 UTC',\n",
       "  'title': 'Release 0.9.14 (Part 3): Change Log'},\n",
       " {'timestamp': '2014-03-01 19:31:56 UTC',\n",
       "  'title': 'Release 0.9.14 (Part 2): Change Log'},\n",
       " {'timestamp': '2014-02-26 10:31:24 UTC',\n",
       "  'title': 'Release 0.9.14 (Part 1): Change Log'},\n",
       " {'timestamp': '2014-02-20 13:14:30 UTC',\n",
       "  'title': 'Release Notes for Release 0.9.13'},\n",
       " {'timestamp': '2013-12-21 14:00:28 UTC',\n",
       "  'title': 'Release Notes for Release 0.9.12'},\n",
       " {'timestamp': '2013-11-17 13:12:20 UTC',\n",
       "  'title': 'Release Notes for Release 0.9.11'},\n",
       " {'timestamp': '2013-10-10 00:33:03 UTC',\n",
       "  'title': 'Release Notes for Release 0.9.10'},\n",
       " {'timestamp': '2013-09-16 10:25:08 UTC',\n",
       "  'title': 'Release Notes for Release 0.9.9'},\n",
       " {'timestamp': '2013-08-30 07:27:59 UTC',\n",
       "  'title': 'Release Notes for Release 0.9.8'},\n",
       " {'timestamp': '2013-06-29 10:01:02 UTC',\n",
       "  'title': 'Release Notes for Releases 0.9.6.1 and 0.9.7'},\n",
       " {'timestamp': '2013-04-04 07:00:40 UTC',\n",
       "  'title': 'Release Notes for Release 0.9.6'},\n",
       " {'timestamp': '2013-02-04 18:10:09 UTC',\n",
       "  'title': 'Tiny Release Notes for Release 0.9.5 Redux'},\n",
       " {'timestamp': '2013-01-26 14:43:05 UTC',\n",
       "  'title': 'Release Notes for Release 0.9.5'},\n",
       " {'timestamp': '2012-12-17 11:28:50 UTC',\n",
       "  'title': 'Release Notes for Mini-Release 0.9.4 (The Happy Holidays Remix)'},\n",
       " {'timestamp': '2012-12-10 16:26:17 UTC',\n",
       "  'title': 'Release Notes for Release 0.9.3 Redux: The Bug-Fixing'},\n",
       " {'timestamp': '2012-12-07 11:24:21 UTC',\n",
       "  'title': 'Release Notes for Release 0.9.3'},\n",
       " {'timestamp': '2012-11-08 08:01:49 UTC',\n",
       "  'title': 'Release 0.9.2: The Return of the Filters'},\n",
       " {'timestamp': '2012-09-22 21:38:41 UTC',\n",
       "  'title': 'Release 0.9.1: An Unexpected Journey'},\n",
       " {'timestamp': '2012-09-03 20:04:50 UTC',\n",
       "  'title': 'Release Notes for Release 0.9.0'},\n",
       " {'timestamp': '2012-07-04 19:58:31 UTC',\n",
       "  'title': 'Release Notes for Release 0.8.20 and 0.8.21'},\n",
       " {'timestamp': '2012-06-13 11:46:29 UTC', 'title': 'Release Notes 0.8.19'},\n",
       " {'timestamp': '2012-06-09 05:42:50 UTC', 'title': 'Release Notes 0.8.17'},\n",
       " {'timestamp': '2012-06-07 19:21:07 UTC',\n",
       "  'title': 'Release Notes 0.8.15-0.8.16'},\n",
       " {'timestamp': '2012-06-03 16:43:54 UTC',\n",
       "  'title': 'Release notes for release 0.8.14'},\n",
       " {'timestamp': '2012-04-21 17:13:14 UTC',\n",
       "  'title': 'Release notes for release 0.8.13'},\n",
       " {'timestamp': '2012-04-01 19:55:04 UTC',\n",
       "  'title': 'Release notes - release 0.8.12'},\n",
       " {'timestamp': '2012-03-02 03:40:18 UTC',\n",
       "  'title': 'Release notes for release 0.8.11'},\n",
       " {'timestamp': '2012-01-24 09:32:15 UTC',\n",
       "  'title': 'Release notes - release 0.8.10.22'},\n",
       " {'timestamp': '2011-12-01 09:47:32 UTC',\n",
       "  'title': 'Release notes - release 0.8.10.10'},\n",
       " {'timestamp': '2011-11-11 21:48:17 UTC',\n",
       "  'title': 'Release notes - release 0.8.9'},\n",
       " {'timestamp': '2011-10-03 01:02:51 UTC',\n",
       "  'title': 'Release Notes - Release 0.8.8'},\n",
       " {'timestamp': '2011-07-25 16:56:54 UTC',\n",
       "  'title': 'Mini-release notes: 0.8.7.6'},\n",
       " {'timestamp': '2011-07-11 17:05:30 UTC',\n",
       "  'title': 'Release notes for release 0.8.7.4'},\n",
       " {'timestamp': '2011-04-02 18:04:09 UTC',\n",
       "  'title': 'Release notes for release 0.8.6'},\n",
       " {'timestamp': '2011-03-01 11:22:58 UTC',\n",
       "  'title': 'Release notes - release 0.8.5'},\n",
       " {'timestamp': '2011-02-07 14:24:20 UTC',\n",
       "  'title': 'Release notes - release 0.8.4.1-0.8.4.4'},\n",
       " {'timestamp': '2011-01-07 22:33:17 UTC',\n",
       "  'title': 'Release notes for release 0.8.3.2-0.8.4'},\n",
       " {'timestamp': '2010-12-21 21:03:27 UTC',\n",
       "  'title': 'Release notes for release 0.8.3.1'},\n",
       " {'timestamp': '2010-12-16 04:01:21 UTC',\n",
       "  'title': 'Release Notes for Release 0.8.3'},\n",
       " {'timestamp': '2010-11-29 20:34:01 UTC',\n",
       "  'title': 'Release Notes for Release 0.8.2.1- - 0.8.2.4'},\n",
       " {'timestamp': '2010-11-12 04:17:54 UTC',\n",
       "  'title': 'Release Notes for Release 0.8.2'},\n",
       " {'timestamp': '2010-09-12 23:51:28 UTC',\n",
       "  'title': 'Release Notes for Release 0.8.1'},\n",
       " {'timestamp': '2010-07-16 09:09:37 UTC', 'title': 'Примечания к релизу 0.8'},\n",
       " {'timestamp': '2010-07-16 08:59:55 UTC',\n",
       "  'title': 'Release Notes for Release 0.8'},\n",
       " {'timestamp': '2010-05-22 16:35:07 UTC',\n",
       "  'title': 'Release Notes for Release 0.7.5'},\n",
       " {'timestamp': '2010-05-22 16:32:33 UTC',\n",
       "  'title': 'Release Notes for Release 0.7.5 - Translations'},\n",
       " {'timestamp': '2010-04-23 22:40:05 UTC',\n",
       "  'title': 'Release notes for release 0.7.4'},\n",
       " {'timestamp': '2010-04-12 05:33:14 UTC',\n",
       "  'title': 'Release notes for release 0.7.3.5 and 0.7.3.6'},\n",
       " {'timestamp': '2010-04-03 16:21:49 UTC',\n",
       "  'title': 'Release notes for release 0.7.3.4'},\n",
       " {'timestamp': '2010-03-17 22:18:17 UTC',\n",
       "  'title': 'Release notes for release 0.7.3.1 and release 0.7.3.2'},\n",
       " {'timestamp': '2010-03-16 21:10:10 UTC',\n",
       "  'title': 'Exciting new features in Release 0.7.3'},\n",
       " {'timestamp': '2010-03-16 20:25:02 UTC',\n",
       "  'title': 'Release notes for release 0.7.3'},\n",
       " {'timestamp': '2010-01-09 11:15:06 UTC', 'title': 'Release Notes for R2101'},\n",
       " {'timestamp': '2010-01-05 00:35:26 UTC',\n",
       "  'title': 'Release History of the Archive of Our Own'},\n",
       " {'timestamp': '2009-12-31 09:38:59 UTC', 'title': 'Release Notes for R2050'},\n",
       " {'timestamp': '2009-12-20 00:18:17 UTC',\n",
       "  'title': 'Release Notes for R1980, R1985, R1995 and R2001'},\n",
       " {'timestamp': '2009-12-17 22:28:55 UTC',\n",
       "  'title': 'Release Notes for Release 0.7.2'},\n",
       " {'timestamp': '2009-12-01 16:58:40 UTC', 'title': 'Release notes for R1789'},\n",
       " {'timestamp': '2009-11-22 23:23:49 UTC', 'title': 'Release Notes for R1762'},\n",
       " {'timestamp': '2009-11-07 21:44:49 UTC', 'title': 'Release Notes for R1692'},\n",
       " {'timestamp': '2009-10-17 21:53:29 UTC', 'title': 'Release Notes for R1585'}]"
      ]
     },
     "execution_count": 77,
     "metadata": {},
     "output_type": "execute_result"
    }
   ],
   "source": [
    "news_list"
   ]
  },
  {
   "cell_type": "markdown",
   "metadata": {},
   "source": [
    "## Making data pretty"
   ]
  },
  {
   "cell_type": "code",
   "execution_count": 78,
   "metadata": {},
   "outputs": [
    {
     "data": {
      "text/html": [
       "<div>\n",
       "<style scoped>\n",
       "    .dataframe tbody tr th:only-of-type {\n",
       "        vertical-align: middle;\n",
       "    }\n",
       "\n",
       "    .dataframe tbody tr th {\n",
       "        vertical-align: top;\n",
       "    }\n",
       "\n",
       "    .dataframe thead th {\n",
       "        text-align: right;\n",
       "    }\n",
       "</style>\n",
       "<table border=\"1\" class=\"dataframe\">\n",
       "  <thead>\n",
       "    <tr style=\"text-align: right;\">\n",
       "      <th></th>\n",
       "      <th>timestamp</th>\n",
       "      <th>title</th>\n",
       "    </tr>\n",
       "  </thead>\n",
       "  <tbody>\n",
       "    <tr>\n",
       "      <th>0</th>\n",
       "      <td>2021-11-11 23:43:18 UTC</td>\n",
       "      <td>Releases 0.9.298, 0.9.306 - 0.9.309: Change Log</td>\n",
       "    </tr>\n",
       "    <tr>\n",
       "      <th>1</th>\n",
       "      <td>2021-07-27 20:15:19 UTC</td>\n",
       "      <td>Releases 0.9.299 - 0.9.305: Change Log</td>\n",
       "    </tr>\n",
       "    <tr>\n",
       "      <th>2</th>\n",
       "      <td>2021-01-23 19:09:49 UTC</td>\n",
       "      <td>Release 0.9.297: Change Log</td>\n",
       "    </tr>\n",
       "    <tr>\n",
       "      <th>3</th>\n",
       "      <td>2020-12-08 15:06:47 UTC</td>\n",
       "      <td>Releases 0.9.295 - 0.9.296: Change Log</td>\n",
       "    </tr>\n",
       "    <tr>\n",
       "      <th>4</th>\n",
       "      <td>2020-08-17 13:53:14 UTC</td>\n",
       "      <td>Releases 0.9.290 - 0.9.293: Change Log</td>\n",
       "    </tr>\n",
       "    <tr>\n",
       "      <th>...</th>\n",
       "      <td>...</td>\n",
       "      <td>...</td>\n",
       "    </tr>\n",
       "    <tr>\n",
       "      <th>143</th>\n",
       "      <td>2009-12-17 22:28:55 UTC</td>\n",
       "      <td>Release Notes for Release 0.7.2</td>\n",
       "    </tr>\n",
       "    <tr>\n",
       "      <th>144</th>\n",
       "      <td>2009-12-01 16:58:40 UTC</td>\n",
       "      <td>Release notes for R1789</td>\n",
       "    </tr>\n",
       "    <tr>\n",
       "      <th>145</th>\n",
       "      <td>2009-11-22 23:23:49 UTC</td>\n",
       "      <td>Release Notes for R1762</td>\n",
       "    </tr>\n",
       "    <tr>\n",
       "      <th>146</th>\n",
       "      <td>2009-11-07 21:44:49 UTC</td>\n",
       "      <td>Release Notes for R1692</td>\n",
       "    </tr>\n",
       "    <tr>\n",
       "      <th>147</th>\n",
       "      <td>2009-10-17 21:53:29 UTC</td>\n",
       "      <td>Release Notes for R1585</td>\n",
       "    </tr>\n",
       "  </tbody>\n",
       "</table>\n",
       "<p>148 rows × 2 columns</p>\n",
       "</div>"
      ],
      "text/plain": [
       "                   timestamp                                            title\n",
       "0    2021-11-11 23:43:18 UTC  Releases 0.9.298, 0.9.306 - 0.9.309: Change Log\n",
       "1    2021-07-27 20:15:19 UTC           Releases 0.9.299 - 0.9.305: Change Log\n",
       "2    2021-01-23 19:09:49 UTC                      Release 0.9.297: Change Log\n",
       "3    2020-12-08 15:06:47 UTC           Releases 0.9.295 - 0.9.296: Change Log\n",
       "4    2020-08-17 13:53:14 UTC           Releases 0.9.290 - 0.9.293: Change Log\n",
       "..                       ...                                              ...\n",
       "143  2009-12-17 22:28:55 UTC                  Release Notes for Release 0.7.2\n",
       "144  2009-12-01 16:58:40 UTC                          Release notes for R1789\n",
       "145  2009-11-22 23:23:49 UTC                          Release Notes for R1762\n",
       "146  2009-11-07 21:44:49 UTC                          Release Notes for R1692\n",
       "147  2009-10-17 21:53:29 UTC                          Release Notes for R1585\n",
       "\n",
       "[148 rows x 2 columns]"
      ]
     },
     "execution_count": 78,
     "metadata": {},
     "output_type": "execute_result"
    }
   ],
   "source": [
    "pandas_df = pd.DataFrame(news_list)\n",
    "pandas_df.assign(timestamp=lambda d: pd.to_datetime(d[\"timestamp\"]))\n",
    "pandas_df"
   ]
  },
  {
   "cell_type": "code",
   "execution_count": 79,
   "metadata": {},
   "outputs": [
    {
     "data": {
      "text/plain": [
       "count                         148\n",
       "unique                        148\n",
       "top       2021-11-11 23:43:18 UTC\n",
       "freq                            1\n",
       "Name: timestamp, dtype: object"
      ]
     },
     "execution_count": 79,
     "metadata": {},
     "output_type": "execute_result"
    }
   ],
   "source": [
    "pandas_df.timestamp.describe()"
   ]
  },
  {
   "cell_type": "code",
   "execution_count": 80,
   "metadata": {},
   "outputs": [
    {
     "data": {
      "text/html": [
       "<div>\n",
       "<style scoped>\n",
       "    .dataframe tbody tr th:only-of-type {\n",
       "        vertical-align: middle;\n",
       "    }\n",
       "\n",
       "    .dataframe tbody tr th {\n",
       "        vertical-align: top;\n",
       "    }\n",
       "\n",
       "    .dataframe thead th {\n",
       "        text-align: right;\n",
       "    }\n",
       "</style>\n",
       "<table border=\"1\" class=\"dataframe\">\n",
       "  <thead>\n",
       "    <tr style=\"text-align: right;\">\n",
       "      <th></th>\n",
       "      <th>timestamp</th>\n",
       "      <th>title</th>\n",
       "      <th>year</th>\n",
       "    </tr>\n",
       "  </thead>\n",
       "  <tbody>\n",
       "    <tr>\n",
       "      <th>0</th>\n",
       "      <td>2021-11-11 23:43:18 UTC</td>\n",
       "      <td>Releases 0.9.298, 0.9.306 - 0.9.309: Change Log</td>\n",
       "      <td>2021</td>\n",
       "    </tr>\n",
       "    <tr>\n",
       "      <th>1</th>\n",
       "      <td>2021-07-27 20:15:19 UTC</td>\n",
       "      <td>Releases 0.9.299 - 0.9.305: Change Log</td>\n",
       "      <td>2021</td>\n",
       "    </tr>\n",
       "    <tr>\n",
       "      <th>2</th>\n",
       "      <td>2021-01-23 19:09:49 UTC</td>\n",
       "      <td>Release 0.9.297: Change Log</td>\n",
       "      <td>2021</td>\n",
       "    </tr>\n",
       "    <tr>\n",
       "      <th>3</th>\n",
       "      <td>2020-12-08 15:06:47 UTC</td>\n",
       "      <td>Releases 0.9.295 - 0.9.296: Change Log</td>\n",
       "      <td>2020</td>\n",
       "    </tr>\n",
       "    <tr>\n",
       "      <th>4</th>\n",
       "      <td>2020-08-17 13:53:14 UTC</td>\n",
       "      <td>Releases 0.9.290 - 0.9.293: Change Log</td>\n",
       "      <td>2020</td>\n",
       "    </tr>\n",
       "    <tr>\n",
       "      <th>...</th>\n",
       "      <td>...</td>\n",
       "      <td>...</td>\n",
       "      <td>...</td>\n",
       "    </tr>\n",
       "    <tr>\n",
       "      <th>143</th>\n",
       "      <td>2009-12-17 22:28:55 UTC</td>\n",
       "      <td>Release Notes for Release 0.7.2</td>\n",
       "      <td>2009</td>\n",
       "    </tr>\n",
       "    <tr>\n",
       "      <th>144</th>\n",
       "      <td>2009-12-01 16:58:40 UTC</td>\n",
       "      <td>Release notes for R1789</td>\n",
       "      <td>2009</td>\n",
       "    </tr>\n",
       "    <tr>\n",
       "      <th>145</th>\n",
       "      <td>2009-11-22 23:23:49 UTC</td>\n",
       "      <td>Release Notes for R1762</td>\n",
       "      <td>2009</td>\n",
       "    </tr>\n",
       "    <tr>\n",
       "      <th>146</th>\n",
       "      <td>2009-11-07 21:44:49 UTC</td>\n",
       "      <td>Release Notes for R1692</td>\n",
       "      <td>2009</td>\n",
       "    </tr>\n",
       "    <tr>\n",
       "      <th>147</th>\n",
       "      <td>2009-10-17 21:53:29 UTC</td>\n",
       "      <td>Release Notes for R1585</td>\n",
       "      <td>2009</td>\n",
       "    </tr>\n",
       "  </tbody>\n",
       "</table>\n",
       "<p>148 rows × 3 columns</p>\n",
       "</div>"
      ],
      "text/plain": [
       "                   timestamp                                            title  \\\n",
       "0    2021-11-11 23:43:18 UTC  Releases 0.9.298, 0.9.306 - 0.9.309: Change Log   \n",
       "1    2021-07-27 20:15:19 UTC           Releases 0.9.299 - 0.9.305: Change Log   \n",
       "2    2021-01-23 19:09:49 UTC                      Release 0.9.297: Change Log   \n",
       "3    2020-12-08 15:06:47 UTC           Releases 0.9.295 - 0.9.296: Change Log   \n",
       "4    2020-08-17 13:53:14 UTC           Releases 0.9.290 - 0.9.293: Change Log   \n",
       "..                       ...                                              ...   \n",
       "143  2009-12-17 22:28:55 UTC                  Release Notes for Release 0.7.2   \n",
       "144  2009-12-01 16:58:40 UTC                          Release notes for R1789   \n",
       "145  2009-11-22 23:23:49 UTC                          Release Notes for R1762   \n",
       "146  2009-11-07 21:44:49 UTC                          Release Notes for R1692   \n",
       "147  2009-10-17 21:53:29 UTC                          Release Notes for R1585   \n",
       "\n",
       "     year  \n",
       "0    2021  \n",
       "1    2021  \n",
       "2    2021  \n",
       "3    2020  \n",
       "4    2020  \n",
       "..    ...  \n",
       "143  2009  \n",
       "144  2009  \n",
       "145  2009  \n",
       "146  2009  \n",
       "147  2009  \n",
       "\n",
       "[148 rows x 3 columns]"
      ]
     },
     "execution_count": 80,
     "metadata": {},
     "output_type": "execute_result"
    }
   ],
   "source": [
    "pandas_df['year'] = pd.DatetimeIndex(pandas_df.timestamp).year\n",
    "pandas_df"
   ]
  },
  {
   "cell_type": "code",
   "execution_count": 81,
   "metadata": {},
   "outputs": [
    {
     "data": {
      "text/plain": [
       "array([2021, 2020, 2019, 2018, 2017, 2016, 2015, 2014, 2013, 2012, 2011,\n",
       "       2010, 2009], dtype=int64)"
      ]
     },
     "execution_count": 81,
     "metadata": {},
     "output_type": "execute_result"
    }
   ],
   "source": [
    "pandas_df.year.unique()"
   ]
  },
  {
   "cell_type": "code",
   "execution_count": 82,
   "metadata": {},
   "outputs": [
    {
     "data": {
      "text/plain": [
       "13"
      ]
     },
     "execution_count": 82,
     "metadata": {},
     "output_type": "execute_result"
    }
   ],
   "source": [
    "pandas_df.year.nunique()"
   ]
  },
  {
   "cell_type": "code",
   "execution_count": null,
   "metadata": {},
   "outputs": [],
   "source": [
    "matplotlib_plot = plt.hist(pandas_df.year,\n",
    "         edgecolor='black',\n",
    "         bins=pandas_df.year.nunique());\n",
    "plt.xlabel('Year')\n",
    "plt.ylabel('Releases')\n",
    "plt.title('Archive of Our Own releases per year')\n",
    "plt.show()"
   ]
  }
 ],
 "metadata": {
  "interpreter": {
   "hash": "8eedf075f987c6917b54ad0d376ee55a9f393057296cfd6b8b0d8802d57ebb99"
  },
  "kernelspec": {
   "display_name": "Python 3.8.5 ('.venv': venv)",
   "language": "python",
   "name": "python3"
  },
  "language_info": {
   "codemirror_mode": {
    "name": "ipython",
    "version": 3
   },
   "file_extension": ".py",
   "mimetype": "text/x-python",
   "name": "python",
   "nbconvert_exporter": "python",
   "pygments_lexer": "ipython3",
   "version": "3.8.5"
  },
  "orig_nbformat": 4
 },
 "nbformat": 4,
 "nbformat_minor": 2
}
