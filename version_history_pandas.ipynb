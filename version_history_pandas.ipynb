{
 "cells": [
  {
   "cell_type": "markdown",
   "metadata": {},
   "source": [
    "# Pandas version history"
   ]
  },
  {
   "cell_type": "markdown",
   "metadata": {},
   "source": [
    "This document is based on the [tutorial by calmcode.io](https://calmcode.io/gazpacho/introduction.html)"
   ]
  },
  {
   "cell_type": "markdown",
   "metadata": {},
   "source": [
    "Here we're reading html from the page supplied by the url."
   ]
  },
  {
   "cell_type": "code",
   "execution_count": 145,
   "metadata": {},
   "outputs": [],
   "source": [
    "url = \"https://pypi.org/project/pandas/#history\"\n",
    "\n",
    "from gazpacho import get\n",
    "\n",
    "html = get(url)"
   ]
  },
  {
   "cell_type": "markdown",
   "metadata": {},
   "source": [
    "We use function find of object Soupt to get specific tags and/or classes of objects from the html doc."
   ]
  },
  {
   "cell_type": "code",
   "execution_count": 146,
   "metadata": {},
   "outputs": [],
   "source": [
    "from gazpacho import Soup\n",
    "\n",
    "soup = Soup(html)\n",
    "cards = soup.find(\"a\", {\"class\": \"card\"})"
   ]
  },
  {
   "cell_type": "markdown",
   "metadata": {},
   "source": [
    "Parameter partial allows us to either select by full or partial tag/class."
   ]
  },
  {
   "cell_type": "code",
   "execution_count": 147,
   "metadata": {},
   "outputs": [
    {
     "data": {
      "text/plain": [
       "<p class=\"release__version\">\n",
       "                  1.4.1\n",
       "                </p>"
      ]
     },
     "execution_count": 147,
     "metadata": {},
     "output_type": "execute_result"
    }
   ],
   "source": [
    "cards[0].find(\"p\", {\"class\": \"release__version\"}, partial=False)"
   ]
  },
  {
   "cell_type": "code",
   "execution_count": 148,
   "metadata": {},
   "outputs": [
    {
     "data": {
      "text/plain": [
       "[<p class=\"release__version\">\n",
       "                   1.4.1\n",
       "                 </p>,\n",
       " <p class=\"release__version-date\">\n",
       "   <time datetime=\"2022-02-12T11:21:13+0000\" data-controller=\"localized-time\" data-localized-time-relative=\"true\" data-localized-time-show-time=\"false\">\n",
       "   Feb 12, 2022\n",
       " </time>\n",
       " </p>]"
      ]
     },
     "execution_count": 148,
     "metadata": {},
     "output_type": "execute_result"
    }
   ],
   "source": [
    "cards[0].find(\"p\", {\"class\": \"release__version\"}, partial=True)"
   ]
  },
  {
   "cell_type": "markdown",
   "metadata": {},
   "source": [
    "We use attrs function to get the attributes of the tag, instead of the text within the tag."
   ]
  },
  {
   "cell_type": "code",
   "execution_count": 149,
   "metadata": {},
   "outputs": [
    {
     "data": {
      "text/plain": [
       "{'datetime': '2022-02-12T11:21:13+0000',\n",
       " 'data-controller': 'localized-time',\n",
       " 'data-localized-time-relative': 'true',\n",
       " 'data-localized-time-show-time': 'false'}"
      ]
     },
     "execution_count": 149,
     "metadata": {},
     "output_type": "execute_result"
    }
   ],
   "source": [
    "# this is a dictionary\n",
    "cards[0].find(\"time\").attrs"
   ]
  },
  {
   "cell_type": "markdown",
   "metadata": {},
   "source": [
    "We're specifically interested in the datetime attribute."
   ]
  },
  {
   "cell_type": "code",
   "execution_count": 150,
   "metadata": {},
   "outputs": [
    {
     "data": {
      "text/plain": [
       "'2022-02-12T11:21:13+0000'"
      ]
     },
     "execution_count": 150,
     "metadata": {},
     "output_type": "execute_result"
    }
   ],
   "source": [
    "# this is the information we're interested in\n",
    "cards[0].find(\"time\").attrs[\"datetime\"]"
   ]
  },
  {
   "cell_type": "markdown",
   "metadata": {},
   "source": [
    "Full process to get the list of dictionaries."
   ]
  },
  {
   "cell_type": "code",
   "execution_count": 151,
   "metadata": {},
   "outputs": [],
   "source": [
    "from gazpacho import get, Soup\n",
    "\n",
    "url = \"https://pypi.org/project/pandas/#history\"\n",
    "\n",
    "html = get(url)\n",
    "soup = Soup(html)\n",
    "cards = soup.find(\"a\", {\"class\": \"card\"})\n",
    "\n",
    "\n",
    "def parse_card(card):\n",
    "    version = card.find(\"p\", {\"class\": \"release__version\"}, partial=False).text\n",
    "    timestamp = card.find(\"time\").attrs[\"datetime\"]\n",
    "    return {\"version\": version, \"timestamp\": timestamp}\n",
    "\n",
    "\n",
    "data_list = [parse_card(c) for c in cards]"
   ]
  },
  {
   "cell_type": "markdown",
   "metadata": {},
   "source": [
    "We can use pandas to process that list of dictionaries into a convenient format."
   ]
  },
  {
   "cell_type": "code",
   "execution_count": 152,
   "metadata": {},
   "outputs": [
    {
     "data": {
      "text/html": [
       "<div>\n",
       "<style scoped>\n",
       "    .dataframe tbody tr th:only-of-type {\n",
       "        vertical-align: middle;\n",
       "    }\n",
       "\n",
       "    .dataframe tbody tr th {\n",
       "        vertical-align: top;\n",
       "    }\n",
       "\n",
       "    .dataframe thead th {\n",
       "        text-align: right;\n",
       "    }\n",
       "</style>\n",
       "<table border=\"1\" class=\"dataframe\">\n",
       "  <thead>\n",
       "    <tr style=\"text-align: right;\">\n",
       "      <th></th>\n",
       "      <th>version</th>\n",
       "      <th>timestamp</th>\n",
       "    </tr>\n",
       "  </thead>\n",
       "  <tbody>\n",
       "    <tr>\n",
       "      <th>0</th>\n",
       "      <td>1.4.1</td>\n",
       "      <td>2022-02-12 11:21:13+00:00</td>\n",
       "    </tr>\n",
       "    <tr>\n",
       "      <th>1</th>\n",
       "      <td>1.4.0</td>\n",
       "      <td>2022-01-22 14:47:00+00:00</td>\n",
       "    </tr>\n",
       "    <tr>\n",
       "      <th>2</th>\n",
       "      <td>1.4.0rc0</td>\n",
       "      <td>2022-01-06 11:01:13+00:00</td>\n",
       "    </tr>\n",
       "    <tr>\n",
       "      <th>3</th>\n",
       "      <td>1.3.5</td>\n",
       "      <td>2021-12-12 14:30:49+00:00</td>\n",
       "    </tr>\n",
       "    <tr>\n",
       "      <th>4</th>\n",
       "      <td>1.3.4</td>\n",
       "      <td>2021-10-17 16:42:57+00:00</td>\n",
       "    </tr>\n",
       "    <tr>\n",
       "      <th>...</th>\n",
       "      <td>...</td>\n",
       "      <td>...</td>\n",
       "    </tr>\n",
       "    <tr>\n",
       "      <th>80</th>\n",
       "      <td>0.4.1</td>\n",
       "      <td>2011-09-26 01:22:28+00:00</td>\n",
       "    </tr>\n",
       "    <tr>\n",
       "      <th>81</th>\n",
       "      <td>0.4.0</td>\n",
       "      <td>2011-09-12 19:41:11+00:00</td>\n",
       "    </tr>\n",
       "    <tr>\n",
       "      <th>82</th>\n",
       "      <td>0.3.0</td>\n",
       "      <td>2011-02-20 01:00:04+00:00</td>\n",
       "    </tr>\n",
       "    <tr>\n",
       "      <th>83</th>\n",
       "      <td>0.2</td>\n",
       "      <td>2010-05-18 13:14:26+00:00</td>\n",
       "    </tr>\n",
       "    <tr>\n",
       "      <th>84</th>\n",
       "      <td>0.1</td>\n",
       "      <td>2009-12-25 22:55:48+00:00</td>\n",
       "    </tr>\n",
       "  </tbody>\n",
       "</table>\n",
       "<p>85 rows × 2 columns</p>\n",
       "</div>"
      ],
      "text/plain": [
       "     version                 timestamp\n",
       "0      1.4.1 2022-02-12 11:21:13+00:00\n",
       "1      1.4.0 2022-01-22 14:47:00+00:00\n",
       "2   1.4.0rc0 2022-01-06 11:01:13+00:00\n",
       "3      1.3.5 2021-12-12 14:30:49+00:00\n",
       "4      1.3.4 2021-10-17 16:42:57+00:00\n",
       "..       ...                       ...\n",
       "80     0.4.1 2011-09-26 01:22:28+00:00\n",
       "81     0.4.0 2011-09-12 19:41:11+00:00\n",
       "82     0.3.0 2011-02-20 01:00:04+00:00\n",
       "83       0.2 2010-05-18 13:14:26+00:00\n",
       "84       0.1 2009-12-25 22:55:48+00:00\n",
       "\n",
       "[85 rows x 2 columns]"
      ]
     },
     "execution_count": 152,
     "metadata": {},
     "output_type": "execute_result"
    }
   ],
   "source": [
    "import pandas as pd\n",
    "\n",
    "pandas_df = (pd.DataFrame(data_list).assign(timestamp=lambda d: pd.to_datetime(d[\"timestamp\"])))\n",
    "pandas_df"
   ]
  },
  {
   "cell_type": "markdown",
   "metadata": {},
   "source": []
  },
  {
   "cell_type": "code",
   "execution_count": 153,
   "metadata": {},
   "outputs": [
    {
     "name": "stderr",
     "output_type": "stream",
     "text": [
      "C:\\Users\\admin\\AppData\\Local\\Temp\\ipykernel_17724\\4113914722.py:1: FutureWarning: Treating datetime data as categorical rather than numeric in `.describe` is deprecated and will be removed in a future version of pandas. Specify `datetime_is_numeric=True` to silence this warning and adopt the future behavior now.\n",
      "  pandas_df.timestamp.describe()\n"
     ]
    },
    {
     "data": {
      "text/plain": [
       "count                            85\n",
       "unique                           85\n",
       "top       2022-02-12 11:21:13+00:00\n",
       "freq                              1\n",
       "first     2009-12-25 22:55:48+00:00\n",
       "last      2022-02-12 11:21:13+00:00\n",
       "Name: timestamp, dtype: object"
      ]
     },
     "execution_count": 153,
     "metadata": {},
     "output_type": "execute_result"
    }
   ],
   "source": [
    "pandas_df.timestamp.describe()"
   ]
  },
  {
   "cell_type": "code",
   "execution_count": 154,
   "metadata": {},
   "outputs": [
    {
     "data": {
      "text/html": [
       "<div>\n",
       "<style scoped>\n",
       "    .dataframe tbody tr th:only-of-type {\n",
       "        vertical-align: middle;\n",
       "    }\n",
       "\n",
       "    .dataframe tbody tr th {\n",
       "        vertical-align: top;\n",
       "    }\n",
       "\n",
       "    .dataframe thead th {\n",
       "        text-align: right;\n",
       "    }\n",
       "</style>\n",
       "<table border=\"1\" class=\"dataframe\">\n",
       "  <thead>\n",
       "    <tr style=\"text-align: right;\">\n",
       "      <th></th>\n",
       "      <th>version</th>\n",
       "      <th>timestamp</th>\n",
       "      <th>year</th>\n",
       "    </tr>\n",
       "  </thead>\n",
       "  <tbody>\n",
       "    <tr>\n",
       "      <th>0</th>\n",
       "      <td>1.4.1</td>\n",
       "      <td>2022-02-12 11:21:13+00:00</td>\n",
       "      <td>2022</td>\n",
       "    </tr>\n",
       "    <tr>\n",
       "      <th>1</th>\n",
       "      <td>1.4.0</td>\n",
       "      <td>2022-01-22 14:47:00+00:00</td>\n",
       "      <td>2022</td>\n",
       "    </tr>\n",
       "    <tr>\n",
       "      <th>2</th>\n",
       "      <td>1.4.0rc0</td>\n",
       "      <td>2022-01-06 11:01:13+00:00</td>\n",
       "      <td>2022</td>\n",
       "    </tr>\n",
       "    <tr>\n",
       "      <th>3</th>\n",
       "      <td>1.3.5</td>\n",
       "      <td>2021-12-12 14:30:49+00:00</td>\n",
       "      <td>2021</td>\n",
       "    </tr>\n",
       "    <tr>\n",
       "      <th>4</th>\n",
       "      <td>1.3.4</td>\n",
       "      <td>2021-10-17 16:42:57+00:00</td>\n",
       "      <td>2021</td>\n",
       "    </tr>\n",
       "    <tr>\n",
       "      <th>...</th>\n",
       "      <td>...</td>\n",
       "      <td>...</td>\n",
       "      <td>...</td>\n",
       "    </tr>\n",
       "    <tr>\n",
       "      <th>80</th>\n",
       "      <td>0.4.1</td>\n",
       "      <td>2011-09-26 01:22:28+00:00</td>\n",
       "      <td>2011</td>\n",
       "    </tr>\n",
       "    <tr>\n",
       "      <th>81</th>\n",
       "      <td>0.4.0</td>\n",
       "      <td>2011-09-12 19:41:11+00:00</td>\n",
       "      <td>2011</td>\n",
       "    </tr>\n",
       "    <tr>\n",
       "      <th>82</th>\n",
       "      <td>0.3.0</td>\n",
       "      <td>2011-02-20 01:00:04+00:00</td>\n",
       "      <td>2011</td>\n",
       "    </tr>\n",
       "    <tr>\n",
       "      <th>83</th>\n",
       "      <td>0.2</td>\n",
       "      <td>2010-05-18 13:14:26+00:00</td>\n",
       "      <td>2010</td>\n",
       "    </tr>\n",
       "    <tr>\n",
       "      <th>84</th>\n",
       "      <td>0.1</td>\n",
       "      <td>2009-12-25 22:55:48+00:00</td>\n",
       "      <td>2009</td>\n",
       "    </tr>\n",
       "  </tbody>\n",
       "</table>\n",
       "<p>85 rows × 3 columns</p>\n",
       "</div>"
      ],
      "text/plain": [
       "     version                 timestamp  year\n",
       "0      1.4.1 2022-02-12 11:21:13+00:00  2022\n",
       "1      1.4.0 2022-01-22 14:47:00+00:00  2022\n",
       "2   1.4.0rc0 2022-01-06 11:01:13+00:00  2022\n",
       "3      1.3.5 2021-12-12 14:30:49+00:00  2021\n",
       "4      1.3.4 2021-10-17 16:42:57+00:00  2021\n",
       "..       ...                       ...   ...\n",
       "80     0.4.1 2011-09-26 01:22:28+00:00  2011\n",
       "81     0.4.0 2011-09-12 19:41:11+00:00  2011\n",
       "82     0.3.0 2011-02-20 01:00:04+00:00  2011\n",
       "83       0.2 2010-05-18 13:14:26+00:00  2010\n",
       "84       0.1 2009-12-25 22:55:48+00:00  2009\n",
       "\n",
       "[85 rows x 3 columns]"
      ]
     },
     "execution_count": 154,
     "metadata": {},
     "output_type": "execute_result"
    }
   ],
   "source": [
    "pandas_df['year'] = pd.DatetimeIndex(pandas_df.timestamp).year\n",
    "pandas_df"
   ]
  },
  {
   "cell_type": "code",
   "execution_count": 155,
   "metadata": {},
   "outputs": [
    {
     "data": {
      "text/plain": [
       "array([2022, 2021, 2020, 2019, 2018, 2017, 2016, 2015, 2014, 2013, 2012,\n",
       "       2011, 2010, 2009], dtype=int64)"
      ]
     },
     "execution_count": 155,
     "metadata": {},
     "output_type": "execute_result"
    }
   ],
   "source": [
    "pandas_df.year.unique()"
   ]
  },
  {
   "cell_type": "code",
   "execution_count": 156,
   "metadata": {},
   "outputs": [
    {
     "data": {
      "text/plain": [
       "14"
      ]
     },
     "execution_count": 156,
     "metadata": {},
     "output_type": "execute_result"
    }
   ],
   "source": [
    "pandas_df.year.nunique()"
   ]
  },
  {
   "cell_type": "code",
   "execution_count": 157,
   "metadata": {},
   "outputs": [
    {
     "data": {
      "image/png": "[encoded data removed]",
      "text/plain": [
       "<Figure size 432x288 with 1 Axes>"
      ]
     },
     "metadata": {
      "needs_background": "light"
     },
     "output_type": "display_data"
    }
   ],
   "source": [
    "import matplotlib.pyplot as plt\n",
    "matplotlib_plot = plt.hist(pandas_df.year,\n",
    "         edgecolor='black',\n",
    "         bins=pandas_df.year.nunique());\n",
    "plt.xlabel('Year')\n",
    "plt.ylabel('Releases')\n",
    "plt.title('pandas package releases per year')\n",
    "plt.show()"
   ]
  },
  {
   "cell_type": "code",
   "execution_count": 158,
   "metadata": {},
   "outputs": [
    {
     "data": {
      "text/plain": [
       "[Text(0.5, 0, 'Year'),\n",
       " Text(0, 0.5, 'Releases'),\n",
       " Text(0.5, 1.0, 'pandas package releases per year')]"
      ]
     },
     "execution_count": 158,
     "metadata": {},
     "output_type": "execute_result"
    },
    {
     "data": {
      "image/png": "[encoded data removed]",
      "text/plain": [
       "<Figure size 432x288 with 1 Axes>"
      ]
     },
     "metadata": {
      "needs_background": "light"
     },
     "output_type": "display_data"
    }
   ],
   "source": [
    "import seaborn as sns\n",
    "seaborn_plot = sns.histplot(pandas_df.year,\n",
    "             bins = pandas_df.year.nunique());\n",
    "#sns.xlabel('Year')\n",
    "#sns.ylabel('Releases')\n",
    "seaborn_plot.set(xlabel='Year',\n",
    "                 ylabel='Releases',\n",
    "                 title='pandas package releases per year')"
   ]
  }
 ],
 "metadata": {
  "interpreter": {
   "hash": "8eedf075f987c6917b54ad0d376ee55a9f393057296cfd6b8b0d8802d57ebb99"
  },
  "kernelspec": {
   "display_name": "Python 3.8.5 ('.venv': venv)",
   "language": "python",
   "name": "python3"
  },
  "language_info": {
   "codemirror_mode": {
    "name": "ipython",
    "version": 3
   },
   "file_extension": ".py",
   "mimetype": "text/x-python",
   "name": "python",
   "nbconvert_exporter": "python",
   "pygments_lexer": "ipython3",
   "version": "3.8.5"
  },
  "orig_nbformat": 4
 },
 "nbformat": 4,
 "nbformat_minor": 2
}
