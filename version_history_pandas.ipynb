{
 "cells": [
  {
   "cell_type": "markdown",
   "metadata": {},
   "source": [
    "# Pandas version history"
   ]
  },
  {
   "cell_type": "markdown",
   "metadata": {},
   "source": [
    "This document is based on the [tutorial by calmcode.io](https://calmcode.io/gazpacho/introduction.html)"
   ]
  },
  {
   "cell_type": "markdown",
   "metadata": {},
   "source": [
    "Here we're reading html from the page supplied by the url."
   ]
  },
  {
   "cell_type": "code",
   "execution_count": 14,
   "metadata": {},
   "outputs": [],
   "source": [
    "url = \"https://pypi.org/project/pandas/#history\"\n",
    "\n",
    "from gazpacho import get\n",
    "\n",
    "html = get(url)"
   ]
  },
  {
   "cell_type": "markdown",
   "metadata": {},
   "source": [
    "We use function find of object Soupt to get specific tags and/or classes of objects from the html doc."
   ]
  },
  {
   "cell_type": "code",
   "execution_count": 15,
   "metadata": {},
   "outputs": [],
   "source": [
    "from gazpacho import Soup\n",
    "\n",
    "soup = Soup(html)\n",
    "cards = soup.find(\"a\", {\"class\": \"card\"})"
   ]
  },
  {
   "cell_type": "markdown",
   "metadata": {},
   "source": [
    "Parameter partial allows us to either select by full or partial tag/class."
   ]
  },
  {
   "cell_type": "code",
   "execution_count": 16,
   "metadata": {},
   "outputs": [
    {
     "data": {
      "text/plain": [
       "<p class=\"release__version\">\n",
       "                  1.4.1\n",
       "                </p>"
      ]
     },
     "execution_count": 16,
     "metadata": {},
     "output_type": "execute_result"
    }
   ],
   "source": [
    "cards[0].find(\"p\", {\"class\": \"release__version\"}, partial=False)"
   ]
  },
  {
   "cell_type": "code",
   "execution_count": 17,
   "metadata": {},
   "outputs": [
    {
     "data": {
      "text/plain": [
       "[<p class=\"release__version\">\n",
       "                   1.4.1\n",
       "                 </p>,\n",
       " <p class=\"release__version-date\">\n",
       "   <time datetime=\"2022-02-12T11:21:13+0000\" data-controller=\"localized-time\" data-localized-time-relative=\"true\" data-localized-time-show-time=\"false\">\n",
       "   Feb 12, 2022\n",
       " </time>\n",
       " </p>]"
      ]
     },
     "execution_count": 17,
     "metadata": {},
     "output_type": "execute_result"
    }
   ],
   "source": [
    "cards[0].find(\"p\", {\"class\": \"release__version\"}, partial=True)"
   ]
  },
  {
   "cell_type": "markdown",
   "metadata": {},
   "source": [
    "We use attrs function to get the attributes of the tag, instead of the text within the tag."
   ]
  },
  {
   "cell_type": "code",
   "execution_count": 18,
   "metadata": {},
   "outputs": [
    {
     "data": {
      "text/plain": [
       "{'datetime': '2022-02-12T11:21:13+0000',\n",
       " 'data-controller': 'localized-time',\n",
       " 'data-localized-time-relative': 'true',\n",
       " 'data-localized-time-show-time': 'false'}"
      ]
     },
     "execution_count": 18,
     "metadata": {},
     "output_type": "execute_result"
    }
   ],
   "source": [
    "# this is a dictionary\n",
    "cards[0].find(\"time\").attrs"
   ]
  },
  {
   "cell_type": "markdown",
   "metadata": {},
   "source": [
    "We're specifically interested in the datetime attribute."
   ]
  },
  {
   "cell_type": "code",
   "execution_count": 19,
   "metadata": {},
   "outputs": [
    {
     "data": {
      "text/plain": [
       "'2022-02-12T11:21:13+0000'"
      ]
     },
     "execution_count": 19,
     "metadata": {},
     "output_type": "execute_result"
    }
   ],
   "source": [
    "# this is the information we're interested in\n",
    "cards[0].find(\"time\").attrs[\"datetime\"]"
   ]
  },
  {
   "cell_type": "markdown",
   "metadata": {},
   "source": [
    "Full process to get the list of dictionaries."
   ]
  },
  {
   "cell_type": "code",
   "execution_count": 24,
   "metadata": {},
   "outputs": [],
   "source": [
    "from gazpacho import get, Soup\n",
    "\n",
    "url = \"https://pypi.org/project/pandas/#history\"\n",
    "\n",
    "html = get(url)\n",
    "soup = Soup(html)\n",
    "cards = soup.find(\"a\", {\"class\": \"card\"})\n",
    "\n",
    "\n",
    "def parse_card(card):\n",
    "    version = card.find(\"p\", {\"class\": \"release__version\"}, partial=False).text\n",
    "    timestamp = card.find(\"time\").attrs[\"datetime\"]\n",
    "    return {\"version\": version, \"timestamp\": timestamp}\n",
    "\n",
    "\n",
    "data_list = [parse_card(c) for c in cards]"
   ]
  },
  {
   "cell_type": "markdown",
   "metadata": {},
   "source": [
    "We can use pandas to process that list of dictionaries into a convenient format."
   ]
  },
  {
   "cell_type": "code",
   "execution_count": 25,
   "metadata": {},
   "outputs": [
    {
     "data": {
      "text/html": [
       "<div>\n",
       "<style scoped>\n",
       "    .dataframe tbody tr th:only-of-type {\n",
       "        vertical-align: middle;\n",
       "    }\n",
       "\n",
       "    .dataframe tbody tr th {\n",
       "        vertical-align: top;\n",
       "    }\n",
       "\n",
       "    .dataframe thead th {\n",
       "        text-align: right;\n",
       "    }\n",
       "</style>\n",
       "<table border=\"1\" class=\"dataframe\">\n",
       "  <thead>\n",
       "    <tr style=\"text-align: right;\">\n",
       "      <th></th>\n",
       "      <th>version</th>\n",
       "      <th>timestamp</th>\n",
       "    </tr>\n",
       "  </thead>\n",
       "  <tbody>\n",
       "    <tr>\n",
       "      <th>0</th>\n",
       "      <td>1.4.1</td>\n",
       "      <td>2022-02-12 11:21:13+00:00</td>\n",
       "    </tr>\n",
       "    <tr>\n",
       "      <th>1</th>\n",
       "      <td>1.4.0</td>\n",
       "      <td>2022-01-22 14:47:00+00:00</td>\n",
       "    </tr>\n",
       "    <tr>\n",
       "      <th>2</th>\n",
       "      <td>1.4.0rc0</td>\n",
       "      <td>2022-01-06 11:01:13+00:00</td>\n",
       "    </tr>\n",
       "    <tr>\n",
       "      <th>3</th>\n",
       "      <td>1.3.5</td>\n",
       "      <td>2021-12-12 14:30:49+00:00</td>\n",
       "    </tr>\n",
       "    <tr>\n",
       "      <th>4</th>\n",
       "      <td>1.3.4</td>\n",
       "      <td>2021-10-17 16:42:57+00:00</td>\n",
       "    </tr>\n",
       "    <tr>\n",
       "      <th>...</th>\n",
       "      <td>...</td>\n",
       "      <td>...</td>\n",
       "    </tr>\n",
       "    <tr>\n",
       "      <th>80</th>\n",
       "      <td>0.4.1</td>\n",
       "      <td>2011-09-26 01:22:28+00:00</td>\n",
       "    </tr>\n",
       "    <tr>\n",
       "      <th>81</th>\n",
       "      <td>0.4.0</td>\n",
       "      <td>2011-09-12 19:41:11+00:00</td>\n",
       "    </tr>\n",
       "    <tr>\n",
       "      <th>82</th>\n",
       "      <td>0.3.0</td>\n",
       "      <td>2011-02-20 01:00:04+00:00</td>\n",
       "    </tr>\n",
       "    <tr>\n",
       "      <th>83</th>\n",
       "      <td>0.2</td>\n",
       "      <td>2010-05-18 13:14:26+00:00</td>\n",
       "    </tr>\n",
       "    <tr>\n",
       "      <th>84</th>\n",
       "      <td>0.1</td>\n",
       "      <td>2009-12-25 22:55:48+00:00</td>\n",
       "    </tr>\n",
       "  </tbody>\n",
       "</table>\n",
       "<p>85 rows × 2 columns</p>\n",
       "</div>"
      ],
      "text/plain": [
       "     version                 timestamp\n",
       "0      1.4.1 2022-02-12 11:21:13+00:00\n",
       "1      1.4.0 2022-01-22 14:47:00+00:00\n",
       "2   1.4.0rc0 2022-01-06 11:01:13+00:00\n",
       "3      1.3.5 2021-12-12 14:30:49+00:00\n",
       "4      1.3.4 2021-10-17 16:42:57+00:00\n",
       "..       ...                       ...\n",
       "80     0.4.1 2011-09-26 01:22:28+00:00\n",
       "81     0.4.0 2011-09-12 19:41:11+00:00\n",
       "82     0.3.0 2011-02-20 01:00:04+00:00\n",
       "83       0.2 2010-05-18 13:14:26+00:00\n",
       "84       0.1 2009-12-25 22:55:48+00:00\n",
       "\n",
       "[85 rows x 2 columns]"
      ]
     },
     "execution_count": 25,
     "metadata": {},
     "output_type": "execute_result"
    }
   ],
   "source": [
    "import pandas as pd\n",
    "\n",
    "(\n",
    "    pd.DataFrame(data_list).assign(\n",
    "        timestamp=lambda d: pd.to_datetime(d[\"timestamp\"])\n",
    "    )\n",
    ")"
   ]
  }
 ],
 "metadata": {
  "interpreter": {
   "hash": "8eedf075f987c6917b54ad0d376ee55a9f393057296cfd6b8b0d8802d57ebb99"
  },
  "kernelspec": {
   "display_name": "Python 3.8.5 ('.venv': venv)",
   "language": "python",
   "name": "python3"
  },
  "language_info": {
   "codemirror_mode": {
    "name": "ipython",
    "version": 3
   },
   "file_extension": ".py",
   "mimetype": "text/x-python",
   "name": "python",
   "nbconvert_exporter": "python",
   "pygments_lexer": "ipython3",
   "version": "3.8.5"
  },
  "orig_nbformat": 4
 },
 "nbformat": 4,
 "nbformat_minor": 2
}
